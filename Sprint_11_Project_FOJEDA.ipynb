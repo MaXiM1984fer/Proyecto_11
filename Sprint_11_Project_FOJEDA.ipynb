{
 "cells": [
  {
   "cell_type": "markdown",
   "id": "d74d1f9a-9b4a-4c1d-8c1d-9dddc4ce5be5",
   "metadata": {},
   "source": [
    "# Descripción del proyecto\n",
    "Trabajas en una empresa emergente que vende productos alimenticios. Debes investigar el comportamiento del usuario para la aplicación de la empresa.\n",
    "\n",
    "Primero, estudia el embudo de ventas. Descubre cómo los usuarios y las usuarias llegan a la etapa de compra. ¿Cuántos usuarios o usuarias realmente llegan a esta etapa? ¿Cuántos se atascan en etapas anteriores? ¿Qué etapas en particular?\n",
    "\n",
    "Luego, observa los resultados de un test A/A/B. (Sigue leyendo para obtener más información sobre los test A/A/B). Al equipo de diseño le gustaría cambiar las fuentes de toda la aplicación, pero la gerencia teme que los usuarios y las usuarias piensen que el nuevo diseño es intimidante. Por ello, deciden tomar una decisión basada en los resultados de un test A/A/B.\n",
    "\n",
    "Los usuarios se dividen en tres grupos: dos grupos de control obtienen las fuentes antiguas y un grupo de prueba obtiene las nuevas. Descubre qué conjunto de fuentes produce mejores resultados.\n",
    "\n",
    "Crear dos grupos A tiene ciertas ventajas. Podemos establecer el principio de que solo confiaremos en la exactitud de nuestras pruebas cuando los dos grupos de control sean similares. Si hay diferencias significativas entre los grupos A, esto puede ayudarnos a descubrir factores que pueden estar distorsionando los resultados. La comparación de grupos de control también nos dice cuánto tiempo y datos necesitaremos cuando realicemos más tests.\n",
    "\n",
    "Utilizarás el mismo dataset para el análisis general y para el análisis A/A/B. En proyectos reales, los experimentos se llevan a cabo constantemente. El equipo de análisis estudia la calidad de una aplicación utilizando datos generales, sin prestar atención a si los usuarios y las usuarias participan en experimentos."
   ]
  },
  {
   "cell_type": "markdown",
   "id": "a292320f-ed3b-4981-80bc-4812c53c8f08",
   "metadata": {},
   "source": [
    "## Paso 1. Importación de librerías y carga de dataset."
   ]
  },
  {
   "cell_type": "code",
   "execution_count": 1,
   "id": "bace2764-2c23-4b47-9ea5-d4bb387dca3d",
   "metadata": {},
   "outputs": [],
   "source": [
    "# Importar librerías\n",
    "\n",
    "import pandas as pd\n",
    "import matplotlib.pyplot as plt\n",
    "import plotly.graph_objects as go\n",
    "import numpy as np\n",
    "from scipy import stats as st\n",
    "from scipy.stats import ttest_ind"
   ]
  },
  {
   "cell_type": "code",
   "execution_count": 43,
   "id": "8138fe48-8b76-41f3-8d72-3a0a1389a4ae",
   "metadata": {},
   "outputs": [],
   "source": [
    "# Cargar dataset\n",
    "\n",
    "data = pd.read_csv('/datasets/logs_exp_us.csv', delimiter='\\t')"
   ]
  },
  {
   "cell_type": "markdown",
   "id": "a058d665-2648-4a8c-b53c-04b29c76d495",
   "metadata": {},
   "source": [
    "## Paso 2. Preparar los datos para el análisis\n",
    "\n",
    "* Cambia el nombre de las columnas de manera que sea conveniente para ti.\n",
    "* Comprueba si hay tipos de datos y valores ausentes. Corrige los datos si es necesario.\n",
    "* Agrega una columna de fecha y hora y una columna separada para las fechas."
   ]
  },
  {
   "cell_type": "code",
   "execution_count": 3,
   "id": "4b8e475a-76fb-4d4e-910a-1be8f79386f2",
   "metadata": {},
   "outputs": [
    {
     "data": {
      "text/html": [
       "<div>\n",
       "<style scoped>\n",
       "    .dataframe tbody tr th:only-of-type {\n",
       "        vertical-align: middle;\n",
       "    }\n",
       "\n",
       "    .dataframe tbody tr th {\n",
       "        vertical-align: top;\n",
       "    }\n",
       "\n",
       "    .dataframe thead th {\n",
       "        text-align: right;\n",
       "    }\n",
       "</style>\n",
       "<table border=\"1\" class=\"dataframe\">\n",
       "  <thead>\n",
       "    <tr style=\"text-align: right;\">\n",
       "      <th></th>\n",
       "      <th>EventName</th>\n",
       "      <th>DeviceIDHash</th>\n",
       "      <th>EventTimestamp</th>\n",
       "      <th>ExpId</th>\n",
       "    </tr>\n",
       "  </thead>\n",
       "  <tbody>\n",
       "    <tr>\n",
       "      <th>0</th>\n",
       "      <td>MainScreenAppear</td>\n",
       "      <td>4575588528974610257</td>\n",
       "      <td>1564029816</td>\n",
       "      <td>246</td>\n",
       "    </tr>\n",
       "    <tr>\n",
       "      <th>1</th>\n",
       "      <td>MainScreenAppear</td>\n",
       "      <td>7416695313311560658</td>\n",
       "      <td>1564053102</td>\n",
       "      <td>246</td>\n",
       "    </tr>\n",
       "    <tr>\n",
       "      <th>2</th>\n",
       "      <td>PaymentScreenSuccessful</td>\n",
       "      <td>3518123091307005509</td>\n",
       "      <td>1564054127</td>\n",
       "      <td>248</td>\n",
       "    </tr>\n",
       "    <tr>\n",
       "      <th>3</th>\n",
       "      <td>CartScreenAppear</td>\n",
       "      <td>3518123091307005509</td>\n",
       "      <td>1564054127</td>\n",
       "      <td>248</td>\n",
       "    </tr>\n",
       "    <tr>\n",
       "      <th>4</th>\n",
       "      <td>PaymentScreenSuccessful</td>\n",
       "      <td>6217807653094995999</td>\n",
       "      <td>1564055322</td>\n",
       "      <td>248</td>\n",
       "    </tr>\n",
       "  </tbody>\n",
       "</table>\n",
       "</div>"
      ],
      "text/plain": [
       "                 EventName         DeviceIDHash  EventTimestamp  ExpId\n",
       "0         MainScreenAppear  4575588528974610257      1564029816    246\n",
       "1         MainScreenAppear  7416695313311560658      1564053102    246\n",
       "2  PaymentScreenSuccessful  3518123091307005509      1564054127    248\n",
       "3         CartScreenAppear  3518123091307005509      1564054127    248\n",
       "4  PaymentScreenSuccessful  6217807653094995999      1564055322    248"
      ]
     },
     "execution_count": 3,
     "metadata": {},
     "output_type": "execute_result"
    }
   ],
   "source": [
    "# Dataset data \n",
    "\n",
    "data.head()"
   ]
  },
  {
   "cell_type": "code",
   "execution_count": 4,
   "id": "32eec834-f004-421e-8b80-1971376f7273",
   "metadata": {},
   "outputs": [
    {
     "name": "stdout",
     "output_type": "stream",
     "text": [
      "<class 'pandas.core.frame.DataFrame'>\n",
      "RangeIndex: 244126 entries, 0 to 244125\n",
      "Data columns (total 4 columns):\n",
      " #   Column          Non-Null Count   Dtype \n",
      "---  ------          --------------   ----- \n",
      " 0   EventName       244126 non-null  object\n",
      " 1   DeviceIDHash    244126 non-null  int64 \n",
      " 2   EventTimestamp  244126 non-null  int64 \n",
      " 3   ExpId           244126 non-null  int64 \n",
      "dtypes: int64(3), object(1)\n",
      "memory usage: 7.5+ MB\n"
     ]
    }
   ],
   "source": [
    "# Información de data\n",
    "\n",
    "data.info()"
   ]
  },
  {
   "cell_type": "markdown",
   "id": "61c41fa2-b79e-45b8-b102-d4cdf4c2cdf2",
   "metadata": {},
   "source": [
    "### Cambia el nombre de las columnas de manera que sea conveniente para ti"
   ]
  },
  {
   "cell_type": "code",
   "execution_count": 5,
   "id": "a91d5f48-48d3-4402-9213-619fff837b3f",
   "metadata": {},
   "outputs": [],
   "source": [
    "# Renombrar las columnas\n",
    "\n",
    "data.columns = ['event_name', 'device_id_hash', 'event_timestamp', 'exp_id']"
   ]
  },
  {
   "cell_type": "markdown",
   "id": "0f7e2c1c-6f68-410d-be3d-b145f22db595",
   "metadata": {},
   "source": [
    "### Comprueba si hay tipos de datos y valores ausentes o duplicados. Corrige los datos si es necesario"
   ]
  },
  {
   "cell_type": "code",
   "execution_count": 6,
   "id": "b23d3770-3fb5-4204-a71a-ca6b5a860087",
   "metadata": {},
   "outputs": [
    {
     "data": {
      "text/plain": [
       "(event_name         0\n",
       " device_id_hash     0\n",
       " event_timestamp    0\n",
       " exp_id             0\n",
       " dtype: int64,\n",
       " event_name         object\n",
       " device_id_hash      int64\n",
       " event_timestamp     int64\n",
       " exp_id              int64\n",
       " dtype: object)"
      ]
     },
     "execution_count": 6,
     "metadata": {},
     "output_type": "execute_result"
    }
   ],
   "source": [
    "# Verificar los valores ausentes\n",
    "\n",
    "missing_values = data.isnull().sum()\n",
    "data_types = data.dtypes\n",
    "\n",
    "missing_values, data_types.head()"
   ]
  },
  {
   "cell_type": "code",
   "execution_count": 7,
   "id": "3428325e-2ba9-430b-b446-f476b728b2ee",
   "metadata": {},
   "outputs": [
    {
     "data": {
      "text/plain": [
       "413"
      ]
     },
     "execution_count": 7,
     "metadata": {},
     "output_type": "execute_result"
    }
   ],
   "source": [
    "# Verificar duplicados\n",
    "\n",
    "data.duplicated().sum()"
   ]
  },
  {
   "cell_type": "code",
   "execution_count": 8,
   "id": "89a70278-02bf-4f3e-9b8f-ddeaab9c9be8",
   "metadata": {},
   "outputs": [
    {
     "data": {
      "text/plain": [
       "0"
      ]
     },
     "execution_count": 8,
     "metadata": {},
     "output_type": "execute_result"
    }
   ],
   "source": [
    "# Quitar los duplicados\n",
    "\n",
    "data = data.drop_duplicates().reset_index()\n",
    "\n",
    "data.duplicated().sum()"
   ]
  },
  {
   "cell_type": "markdown",
   "id": "29982d30-f294-4d6e-a7b2-3a1f39353a80",
   "metadata": {},
   "source": [
    "### Agrega una columna de fecha y hora y una columna separada para las fechas"
   ]
  },
  {
   "cell_type": "code",
   "execution_count": 9,
   "id": "41ece3c9-31e0-4531-a853-0d7ee99e2662",
   "metadata": {},
   "outputs": [],
   "source": [
    "# Convertir 'event_timestamp' a formato datetime\n",
    "\n",
    "data['event_datetime'] = pd.to_datetime(data['event_timestamp'], unit='s')"
   ]
  },
  {
   "cell_type": "code",
   "execution_count": 10,
   "id": "58aa6467-a5f5-4317-878b-728c2ba7e35f",
   "metadata": {},
   "outputs": [
    {
     "name": "stdout",
     "output_type": "stream",
     "text": [
      "<class 'pandas.core.frame.DataFrame'>\n",
      "RangeIndex: 243713 entries, 0 to 243712\n",
      "Data columns (total 7 columns):\n",
      " #   Column           Non-Null Count   Dtype         \n",
      "---  ------           --------------   -----         \n",
      " 0   index            243713 non-null  int64         \n",
      " 1   event_name       243713 non-null  object        \n",
      " 2   device_id_hash   243713 non-null  int64         \n",
      " 3   event_timestamp  243713 non-null  int64         \n",
      " 4   exp_id           243713 non-null  int64         \n",
      " 5   event_datetime   243713 non-null  datetime64[ns]\n",
      " 6   event_date       243713 non-null  object        \n",
      "dtypes: datetime64[ns](1), int64(4), object(2)\n",
      "memory usage: 13.0+ MB\n"
     ]
    },
    {
     "data": {
      "text/html": [
       "<div>\n",
       "<style scoped>\n",
       "    .dataframe tbody tr th:only-of-type {\n",
       "        vertical-align: middle;\n",
       "    }\n",
       "\n",
       "    .dataframe tbody tr th {\n",
       "        vertical-align: top;\n",
       "    }\n",
       "\n",
       "    .dataframe thead th {\n",
       "        text-align: right;\n",
       "    }\n",
       "</style>\n",
       "<table border=\"1\" class=\"dataframe\">\n",
       "  <thead>\n",
       "    <tr style=\"text-align: right;\">\n",
       "      <th></th>\n",
       "      <th>index</th>\n",
       "      <th>event_name</th>\n",
       "      <th>device_id_hash</th>\n",
       "      <th>event_timestamp</th>\n",
       "      <th>exp_id</th>\n",
       "      <th>event_datetime</th>\n",
       "      <th>event_date</th>\n",
       "    </tr>\n",
       "  </thead>\n",
       "  <tbody>\n",
       "    <tr>\n",
       "      <th>0</th>\n",
       "      <td>0</td>\n",
       "      <td>MainScreenAppear</td>\n",
       "      <td>4575588528974610257</td>\n",
       "      <td>1564029816</td>\n",
       "      <td>246</td>\n",
       "      <td>2019-07-25 04:43:36</td>\n",
       "      <td>2019-07-25</td>\n",
       "    </tr>\n",
       "    <tr>\n",
       "      <th>1</th>\n",
       "      <td>1</td>\n",
       "      <td>MainScreenAppear</td>\n",
       "      <td>7416695313311560658</td>\n",
       "      <td>1564053102</td>\n",
       "      <td>246</td>\n",
       "      <td>2019-07-25 11:11:42</td>\n",
       "      <td>2019-07-25</td>\n",
       "    </tr>\n",
       "    <tr>\n",
       "      <th>2</th>\n",
       "      <td>2</td>\n",
       "      <td>PaymentScreenSuccessful</td>\n",
       "      <td>3518123091307005509</td>\n",
       "      <td>1564054127</td>\n",
       "      <td>248</td>\n",
       "      <td>2019-07-25 11:28:47</td>\n",
       "      <td>2019-07-25</td>\n",
       "    </tr>\n",
       "    <tr>\n",
       "      <th>3</th>\n",
       "      <td>3</td>\n",
       "      <td>CartScreenAppear</td>\n",
       "      <td>3518123091307005509</td>\n",
       "      <td>1564054127</td>\n",
       "      <td>248</td>\n",
       "      <td>2019-07-25 11:28:47</td>\n",
       "      <td>2019-07-25</td>\n",
       "    </tr>\n",
       "    <tr>\n",
       "      <th>4</th>\n",
       "      <td>4</td>\n",
       "      <td>PaymentScreenSuccessful</td>\n",
       "      <td>6217807653094995999</td>\n",
       "      <td>1564055322</td>\n",
       "      <td>248</td>\n",
       "      <td>2019-07-25 11:48:42</td>\n",
       "      <td>2019-07-25</td>\n",
       "    </tr>\n",
       "  </tbody>\n",
       "</table>\n",
       "</div>"
      ],
      "text/plain": [
       "   index               event_name       device_id_hash  event_timestamp  \\\n",
       "0      0         MainScreenAppear  4575588528974610257       1564029816   \n",
       "1      1         MainScreenAppear  7416695313311560658       1564053102   \n",
       "2      2  PaymentScreenSuccessful  3518123091307005509       1564054127   \n",
       "3      3         CartScreenAppear  3518123091307005509       1564054127   \n",
       "4      4  PaymentScreenSuccessful  6217807653094995999       1564055322   \n",
       "\n",
       "   exp_id      event_datetime  event_date  \n",
       "0     246 2019-07-25 04:43:36  2019-07-25  \n",
       "1     246 2019-07-25 11:11:42  2019-07-25  \n",
       "2     248 2019-07-25 11:28:47  2019-07-25  \n",
       "3     248 2019-07-25 11:28:47  2019-07-25  \n",
       "4     248 2019-07-25 11:48:42  2019-07-25  "
      ]
     },
     "metadata": {},
     "output_type": "display_data"
    },
    {
     "data": {
      "text/plain": [
       "None"
      ]
     },
     "metadata": {},
     "output_type": "display_data"
    }
   ],
   "source": [
    "# Crear una columna para la fecha\n",
    "\n",
    "data['event_date'] = data['event_datetime'].dt.date\n",
    "\n",
    "display(data.head(), data.info())"
   ]
  },
  {
   "cell_type": "markdown",
   "id": "2599740a-1f38-4f49-8e52-bf7541c7028b",
   "metadata": {},
   "source": [
    "* Se renombraron las columnas usando la metodología snake_case y no se hallaron valores ausentes.\n",
    "* Se realizó el cambio del tipo de datos de 'event_timestamp' a datetime en segundos.\n",
    "* Se encontraron 413 duplicados y se procedieron a eliminar.\n",
    "* Se crearon las 2 nuevas columnas."
   ]
  },
  {
   "cell_type": "markdown",
   "id": "a3aff7f8-44af-432c-8e47-7cab53ab9a6e",
   "metadata": {},
   "source": [
    "## Paso 3. Paso 3. Estudiar y comprobar los datos\n",
    "\n",
    "* ¿Cuántos eventos hay en los registros?\n",
    "* ¿Cuántos usuarios y usuarias hay en los registros?\n",
    "* ¿Cuál es el promedio de eventos por usuario?\n",
    "* ¿Qué periodo de tiempo cubren los datos? Encuentra la fecha máxima y mínima. Traza un histograma por fecha y hora. ¿Puedes tener seguridad de que tienes datos igualmente completos para todo el periodo? Los eventos más antiguos podrían terminar en los registros de algunos usuarios o usuarias por razones técnicas y esto podría sesgar el panorama general. Encuentra el momento en el que los datos comienzan a estar completos e ignora la sección anterior. ¿Qué periodo representan realmente los datos?\n",
    "* ¿Perdiste muchos eventos y usuarios al excluir los datos más antiguos?\n",
    "* Asegúrate de tener usuarios y usuarias de los tres grupos experimentales."
   ]
  },
  {
   "cell_type": "markdown",
   "id": "7721d87c-5a7b-4559-903f-fcd7fdd4302e",
   "metadata": {},
   "source": [
    "### ¿Cuántos eventos hay en los registros?"
   ]
  },
  {
   "cell_type": "code",
   "execution_count": 11,
   "id": "26f9708f-9163-4ac4-8977-df0f9c44cf0f",
   "metadata": {},
   "outputs": [
    {
     "data": {
      "text/plain": [
       "243713"
      ]
     },
     "execution_count": 11,
     "metadata": {},
     "output_type": "execute_result"
    }
   ],
   "source": [
    "# Contar el numero de eventos\n",
    "\n",
    "total_events = data['event_name'].count()\n",
    "total_events"
   ]
  },
  {
   "cell_type": "markdown",
   "id": "6b8b7668-7fbc-440a-ba54-429c1142a467",
   "metadata": {},
   "source": [
    "### ¿Cuántos usuarios y usuarias hay en los registros?"
   ]
  },
  {
   "cell_type": "code",
   "execution_count": 12,
   "id": "d8cc0147-b3e1-402b-9757-45520828f092",
   "metadata": {},
   "outputs": [
    {
     "data": {
      "text/plain": [
       "7551"
      ]
     },
     "execution_count": 12,
     "metadata": {},
     "output_type": "execute_result"
    }
   ],
   "source": [
    "# Contar el número de usuarios únicos\n",
    "\n",
    "total_users = data['device_id_hash'].nunique()\n",
    "total_users"
   ]
  },
  {
   "cell_type": "markdown",
   "id": "e7001d69-b76e-4010-b028-18a3e7b1da4e",
   "metadata": {},
   "source": [
    "### ¿Cuál es el promedio de eventos por usuario?"
   ]
  },
  {
   "cell_type": "code",
   "execution_count": 13,
   "id": "ac3f48f7-cbc5-4f57-a408-4840043bf8e5",
   "metadata": {},
   "outputs": [
    {
     "data": {
      "text/plain": [
       "32.27559263673685"
      ]
     },
     "execution_count": 13,
     "metadata": {},
     "output_type": "execute_result"
    }
   ],
   "source": [
    "# Calcular el número de eventos promedio por usuario\n",
    "\n",
    "average_events_per_user = total_events / total_users\n",
    "average_events_per_user"
   ]
  },
  {
   "cell_type": "markdown",
   "id": "baf99315-e753-436a-b826-ae706555b552",
   "metadata": {},
   "source": [
    "### ¿Qué periodo de tiempo cubren los datos?"
   ]
  },
  {
   "cell_type": "code",
   "execution_count": 14,
   "id": "7efb2284-2759-41b6-86b6-484797351fb2",
   "metadata": {},
   "outputs": [
    {
     "name": "stdout",
     "output_type": "stream",
     "text": [
      "2019-07-25 2019-08-07\n"
     ]
    }
   ],
   "source": [
    "# Encontrar las fechas mínimas y máximas del dataset\n",
    "\n",
    "min_date = data['event_date'].min()\n",
    "max_date = data['event_date'].max()\n",
    "\n",
    "print(min_date, max_date)"
   ]
  },
  {
   "cell_type": "code",
   "execution_count": 15,
   "id": "ac45f712-2078-4dda-ad52-757a5eed93e0",
   "metadata": {},
   "outputs": [
    {
     "data": {
      "image/png": "[encoded data removed]",
      "text/plain": [
       "<Figure size 1200x600 with 1 Axes>"
      ]
     },
     "metadata": {},
     "output_type": "display_data"
    }
   ],
   "source": [
    "# Plot a histogram of events by date and time\n",
    "\n",
    "plt.figure(figsize=(12, 6))\n",
    "data['event_datetime'].hist(bins=50)\n",
    "plt.title('Histogram of Events by Date and Time')\n",
    "plt.xlabel('Date and Time')\n",
    "plt.ylabel('Number of Events')\n",
    "plt.xticks(rotation = 30)\n",
    "plt.grid(True)\n",
    "plt.show()"
   ]
  },
  {
   "cell_type": "markdown",
   "id": "e616ca9e-9431-4682-8a70-d61304ce9561",
   "metadata": {},
   "source": [
    "* Se observa la concentración de eventos en ciertos periodos, esto podría indicar que los datos no son igualmente completos en todo el periodo cubierto.\n",
    "* Se debería identificar cualquier fecha o rango de tiempo donde los eventos están significativamente menos representados para evaluar si esos datos deberían ser excluidos."
   ]
  },
  {
   "cell_type": "code",
   "execution_count": 16,
   "id": "49fae0a6-1a64-4661-bc8b-7a8cff6f48b6",
   "metadata": {},
   "outputs": [
    {
     "data": {
      "text/plain": [
       "event_date\n",
       "2019-07-25        9\n",
       "2019-07-26       31\n",
       "2019-07-27       55\n",
       "2019-07-28      105\n",
       "2019-07-29      184\n",
       "2019-07-30      412\n",
       "2019-07-31     2030\n",
       "2019-08-01    36141\n",
       "2019-08-02    35554\n",
       "2019-08-03    33282\n",
       "2019-08-04    32968\n",
       "2019-08-05    36058\n",
       "2019-08-06    35788\n",
       "2019-08-07    31096\n",
       "dtype: int64"
      ]
     },
     "execution_count": 16,
     "metadata": {},
     "output_type": "execute_result"
    }
   ],
   "source": [
    "# Analizaremos la distribución de eventos en el timepo para determinar cuando los datos se tornan consistentes\n",
    "# Agrupar la data por fechas y contar los eventos por día\n",
    "\n",
    "events_per_day = data.groupby('event_date').size()\n",
    "\n",
    "events_per_day"
   ]
  },
  {
   "cell_type": "code",
   "execution_count": 17,
   "id": "52a593d7-c45d-4fd2-852b-833a4d6d2047",
   "metadata": {},
   "outputs": [
    {
     "data": {
      "text/plain": [
       "datetime.date(2019, 8, 1)"
      ]
     },
     "execution_count": 17,
     "metadata": {},
     "output_type": "execute_result"
    }
   ],
   "source": [
    "# Identificar cuando los datos se vuelven consistentes\n",
    "\n",
    "consistent_start_date = events_per_day.idxmax()\n",
    "\n",
    "consistent_start_date"
   ]
  },
  {
   "cell_type": "code",
   "execution_count": 18,
   "id": "68d0408c-0e1a-4889-8a1f-b492b53a334c",
   "metadata": {},
   "outputs": [],
   "source": [
    "# Filtrar los datos para incluir sólo los eventos después del 01.08.2019\n",
    "\n",
    "filtered_data = data[data['event_date'] >= consistent_start_date]"
   ]
  },
  {
   "cell_type": "markdown",
   "id": "b7470f10-553c-45d8-b1e0-d049645272eb",
   "metadata": {},
   "source": [
    "* El análisis sugiere que los datos comienzan a ser consistentes a partir del 1 de agosto de 2019.\n",
    "* Por lo tanto se filtró el dataset para utilizar la parte mas signficativa del dataset."
   ]
  },
  {
   "cell_type": "markdown",
   "id": "b399823f-044a-43ac-9954-a42763072470",
   "metadata": {},
   "source": [
    "### ¿Perdiste muchos eventos y usuarios al excluir los datos más antiguos?"
   ]
  },
  {
   "cell_type": "code",
   "execution_count": 19,
   "id": "96f18282-49fe-43f6-9fdc-a7f779710392",
   "metadata": {},
   "outputs": [
    {
     "data": {
      "text/plain": [
       "2826"
      ]
     },
     "metadata": {},
     "output_type": "display_data"
    },
    {
     "data": {
      "text/plain": [
       "17"
      ]
     },
     "metadata": {},
     "output_type": "display_data"
    },
    {
     "data": {
      "text/plain": [
       "1.159560630741897"
      ]
     },
     "metadata": {},
     "output_type": "display_data"
    }
   ],
   "source": [
    "# Calcular el numero de eventos y usuarios perdios al excluir los datos antiguos\n",
    "\n",
    "events_lost = total_events - filtered_data['event_name'].count()\n",
    "users_lost = total_users - filtered_data['device_id_hash'].nunique()\n",
    "\n",
    "events_lost_percent = (events_lost / total_events) * 100\n",
    "\n",
    "display(events_lost, users_lost, events_lost_percent)"
   ]
  },
  {
   "cell_type": "markdown",
   "id": "b4905352-8acd-4dc1-98fd-43e5e944cc95",
   "metadata": {},
   "source": [
    "* Al excluir los datos anteriores al 1 de agosto de 2019, se pierden 2,826 eventos. Lo que representa solamente el 1.16% del total de eventos.\n",
    "* Se pierden 17 usuarios al excluir los datos anteriores a esta fecha."
   ]
  },
  {
   "cell_type": "markdown",
   "id": "60d61c56",
   "metadata": {},
   "source": [
    "<div class=\"alert alert-block alert-info\">\n",
    "<b>Respuesta del estudiante</b> <a class=\"tocSkip\"></a>\n",
    "\n",
    "Agregada respuesta.\n",
    "</div>"
   ]
  },
  {
   "cell_type": "markdown",
   "id": "06c3a895-e39a-4931-961f-d68b402164b1",
   "metadata": {},
   "source": [
    "### Asegúrate de tener usuarios y usuarias de los tres grupos experimentales."
   ]
  },
  {
   "cell_type": "code",
   "execution_count": 20,
   "id": "d79e7dbb-a00a-41f0-a5cb-e5ef65091c22",
   "metadata": {},
   "outputs": [
    {
     "data": {
      "text/plain": [
       "3"
      ]
     },
     "execution_count": 20,
     "metadata": {},
     "output_type": "execute_result"
    }
   ],
   "source": [
    "# Verificar la representación de los tres grupos experimentales en los datos filtrados\n",
    "\n",
    "groups_in_filtered_data = filtered_data['exp_id'].nunique()\n",
    "\n",
    "groups_in_filtered_data"
   ]
  },
  {
   "cell_type": "markdown",
   "id": "7c4c8c1f-9d24-4a48-8228-5e404386a3b7",
   "metadata": {},
   "source": [
    "* A pesar de la exclusión, los tres grupos experimentales (246, 247 y 248) siguen estando representados en los datos filtrados."
   ]
  },
  {
   "cell_type": "markdown",
   "id": "2d5fef22-29ca-455f-bb2f-34cb139d53c9",
   "metadata": {},
   "source": [
    "## Paso 4. Estudiar el embudo de eventos\n",
    "\n",
    "* Observa qué eventos hay en los registros y su frecuencia de suceso. Ordénalos por frecuencia.\n",
    "* Encuentra la cantidad de usuarios y usuarias que realizaron cada una de estas acciones. Ordena los eventos por el número de usuarios y usuarias  Calcula la proporción de usuarios y usuarias que realizaron la acción al menos una vez.\n",
    "* ¿En qué orden crees que ocurrieron las acciones? ¿Todas son parte de una sola secuencia? No es necesario tenerlas en cuenta al calcular el embudo.\n",
    "* Utiliza el embudo de eventos para encontrar la proporción de usuarios y usuarias que pasan de una etapa a la siguiente. (Por ejemplo, para la secuencia de eventos A → B → C, calcula la proporción de usuarios en la etapa B a la cantidad de usuarios en la etapa A y la proporción de usuarios en la etapa C a la cantidad en la etapa B).\n",
    "* ¿En qué etapa pierdes más usuarios y usuarias?\n",
    "* ¿Qué porcentaje de usuarios y usuarias hace todo el viaje desde su primer evento hasta el pago?"
   ]
  },
  {
   "cell_type": "markdown",
   "id": "c037f1a8-2de1-480e-98d6-30ad08bb9614",
   "metadata": {},
   "source": [
    "### Observa qué eventos hay en los registros y su frecuencia de suceso. Ordénalos por frecuencia."
   ]
  },
  {
   "cell_type": "code",
   "execution_count": 21,
   "id": "42e682fe-65ac-448b-b6f0-46e3ab813304",
   "metadata": {},
   "outputs": [
    {
     "data": {
      "text/plain": [
       "MainScreenAppear           117328\n",
       "OffersScreenAppear          46333\n",
       "CartScreenAppear            42303\n",
       "PaymentScreenSuccessful     33918\n",
       "Tutorial                     1005\n",
       "Name: event_name, dtype: int64"
      ]
     },
     "execution_count": 21,
     "metadata": {},
     "output_type": "execute_result"
    }
   ],
   "source": [
    "# Contar la frecuencia de cada evento y ordenar por mayor frecuencia\n",
    "\n",
    "event_frequencies = filtered_data['event_name'].value_counts()\n",
    "\n",
    "event_frequencies"
   ]
  },
  {
   "cell_type": "markdown",
   "id": "43bcb54c-2d48-4911-baee-e1f39527f27a",
   "metadata": {},
   "source": [
    "### Encuentra la cantidad de usuarios y usuarias que realizaron cada una de estas acciones. Ordena los eventos por el número de usuarios y usuarias. Calcula la proporción de usuarios y usuarias que realizaron la acción al menos una vez."
   ]
  },
  {
   "cell_type": "code",
   "execution_count": 22,
   "id": "cb267c20-334b-4017-8990-475cf2a95c9a",
   "metadata": {},
   "outputs": [
    {
     "data": {
      "text/plain": [
       "event_name\n",
       "MainScreenAppear           7419\n",
       "OffersScreenAppear         4593\n",
       "CartScreenAppear           3734\n",
       "PaymentScreenSuccessful    3539\n",
       "Tutorial                    840\n",
       "Name: device_id_hash, dtype: int64"
      ]
     },
     "execution_count": 22,
     "metadata": {},
     "output_type": "execute_result"
    }
   ],
   "source": [
    "# Contar el número de usuarios únicos por evento\n",
    "\n",
    "unique_users_per_event = filtered_data.groupby('event_name')['device_id_hash'].nunique().sort_values(ascending=False)\n",
    "unique_users_per_event"
   ]
  },
  {
   "cell_type": "code",
   "execution_count": 23,
   "id": "2f4a2606-5b96-4f60-a1d6-2cc308688e41",
   "metadata": {},
   "outputs": [
    {
     "data": {
      "text/plain": [
       "event_name\n",
       "MainScreenAppear           1.000000\n",
       "OffersScreenAppear         0.619086\n",
       "CartScreenAppear           0.503302\n",
       "PaymentScreenSuccessful    0.477018\n",
       "Tutorial                   0.113223\n",
       "Name: device_id_hash, dtype: float64"
      ]
     },
     "execution_count": 23,
     "metadata": {},
     "output_type": "execute_result"
    }
   ],
   "source": [
    "# Calcular la proporción de usuarios que realizaron cada evento al menos una vez\n",
    "\n",
    "proportion_users_per_event = unique_users_per_event / unique_users_per_event.max()\n",
    "proportion_users_per_event"
   ]
  },
  {
   "cell_type": "code",
   "execution_count": 24,
   "id": "fbb31ec5-e886-431d-92dd-2681619b4a18",
   "metadata": {},
   "outputs": [
    {
     "data": {
      "text/html": [
       "<div>\n",
       "<style scoped>\n",
       "    .dataframe tbody tr th:only-of-type {\n",
       "        vertical-align: middle;\n",
       "    }\n",
       "\n",
       "    .dataframe tbody tr th {\n",
       "        vertical-align: top;\n",
       "    }\n",
       "\n",
       "    .dataframe thead th {\n",
       "        text-align: right;\n",
       "    }\n",
       "</style>\n",
       "<table border=\"1\" class=\"dataframe\">\n",
       "  <thead>\n",
       "    <tr style=\"text-align: right;\">\n",
       "      <th></th>\n",
       "      <th>event_frequency</th>\n",
       "      <th>unique_users</th>\n",
       "      <th>proportion_users</th>\n",
       "    </tr>\n",
       "  </thead>\n",
       "  <tbody>\n",
       "    <tr>\n",
       "      <th>MainScreenAppear</th>\n",
       "      <td>117328</td>\n",
       "      <td>7419</td>\n",
       "      <td>1.000000</td>\n",
       "    </tr>\n",
       "    <tr>\n",
       "      <th>OffersScreenAppear</th>\n",
       "      <td>46333</td>\n",
       "      <td>4593</td>\n",
       "      <td>0.619086</td>\n",
       "    </tr>\n",
       "    <tr>\n",
       "      <th>CartScreenAppear</th>\n",
       "      <td>42303</td>\n",
       "      <td>3734</td>\n",
       "      <td>0.503302</td>\n",
       "    </tr>\n",
       "    <tr>\n",
       "      <th>PaymentScreenSuccessful</th>\n",
       "      <td>33918</td>\n",
       "      <td>3539</td>\n",
       "      <td>0.477018</td>\n",
       "    </tr>\n",
       "    <tr>\n",
       "      <th>Tutorial</th>\n",
       "      <td>1005</td>\n",
       "      <td>840</td>\n",
       "      <td>0.113223</td>\n",
       "    </tr>\n",
       "  </tbody>\n",
       "</table>\n",
       "</div>"
      ],
      "text/plain": [
       "                         event_frequency  unique_users  proportion_users\n",
       "MainScreenAppear                  117328          7419          1.000000\n",
       "OffersScreenAppear                 46333          4593          0.619086\n",
       "CartScreenAppear                   42303          3734          0.503302\n",
       "PaymentScreenSuccessful            33918          3539          0.477018\n",
       "Tutorial                            1005           840          0.113223"
      ]
     },
     "execution_count": 24,
     "metadata": {},
     "output_type": "execute_result"
    }
   ],
   "source": [
    "# Consolidar en dataset nuevo\n",
    "\n",
    "event_analysis = pd.DataFrame({\n",
    "    'event_frequency': event_frequencies,\n",
    "    'unique_users': unique_users_per_event,\n",
    "    'proportion_users': proportion_users_per_event\n",
    "}).sort_values(by='event_frequency', ascending=False)\n",
    "\n",
    "event_analysis"
   ]
  },
  {
   "cell_type": "markdown",
   "id": "388b7a80-7fb4-4ba3-981b-fa9e92e7a33a",
   "metadata": {},
   "source": [
    "### ¿En qué orden crees que ocurrieron las acciones? ¿Todas son parte de una sola secuencia? No es necesario tenerlas en cuenta al calcular el embudo."
   ]
  },
  {
   "cell_type": "code",
   "execution_count": 25,
   "id": "754afb45-6062-4aff-b6bd-9d55b88e7e8c",
   "metadata": {},
   "outputs": [],
   "source": [
    "# Analiza el orden de las acciones\n",
    "\n",
    "event_order = filtered_data.groupby(['device_id_hash', 'event_timestamp'])['event_name'].apply(list)"
   ]
  },
  {
   "cell_type": "code",
   "execution_count": 26,
   "id": "32943dfd-e7c5-444a-9cc3-e0db51ad436b",
   "metadata": {},
   "outputs": [
    {
     "data": {
      "text/plain": [
       "[['OffersScreenAppear'],\n",
       " ['MainScreenAppear'],\n",
       " ['MainScreenAppear'],\n",
       " ['MainScreenAppear'],\n",
       " ['CartScreenAppear']]"
      ]
     },
     "execution_count": 26,
     "metadata": {},
     "output_type": "execute_result"
    }
   ],
   "source": [
    "# Verificar los eventos de algunos usuarios para observar el orden común\n",
    "\n",
    "sample_sequences = event_order.sample(5, random_state=1).tolist()\n",
    "\n",
    "sample_sequences"
   ]
  },
  {
   "cell_type": "markdown",
   "id": "eecbef25-50fb-43dd-8086-0cedfe22b538",
   "metadata": {},
   "source": [
    "* La secuencia más común que he analizado sigue este orden: MainScreenAppear → OffersScreenAppear → CartScreenAppear → PaymentScreenSuccessful \n",
    "\n",
    "* Algunas muestras de secuencias muestran que esta secuencia es común, aunque hay otras variaciones."
   ]
  },
  {
   "cell_type": "markdown",
   "id": "d9f19d4f-d1de-420a-a338-3966028615c8",
   "metadata": {},
   "source": [
    "### Utiliza el embudo de eventos para encontrar la proporción de usuarios y usuarias que pasan de una etapa a la siguiente. (Por ejemplo, para la secuencia de eventos A → B → C, calcula la proporción de usuarios en la etapa B a la cantidad de usuarios en la etapa A y la proporción de usuarios en la etapa C a la cantidad en la etapa B)."
   ]
  },
  {
   "cell_type": "code",
   "execution_count": 44,
   "id": "6ed87ad6-c576-4719-b420-96dec00f98b5",
   "metadata": {},
   "outputs": [],
   "source": [
    "# Asumimos que la secuencia común es: MainScreenAppear -> OffersScreenAppear -> CartScreenAppear -> PaymentScreenSuccessful\n",
    "\n",
    "# Crear columnas para verificar si un usuario pasó al siguiente nivel del embudo\n",
    "\n",
    "filtered_data['main_screen'] = filtered_data['event_name'] == 'MainScreenAppear'\n",
    "filtered_data['offers_screen'] = filtered_data['event_name'] == 'OffersScreenAppear'\n",
    "filtered_data['cart_screen'] = filtered_data['event_name'] == 'CartScreenAppear'\n",
    "filtered_data['payment_screen'] = filtered_data['event_name'] == 'PaymentScreenSuccessful'"
   ]
  },
  {
   "cell_type": "code",
   "execution_count": 45,
   "id": "650e36bd-cf0b-4c95-889f-21f178d19468",
   "metadata": {},
   "outputs": [],
   "source": [
    "# Agrupar por usuario\n",
    "\n",
    "funnel = filtered_data.groupby('device_id_hash').agg({\n",
    "    'main_screen': 'max',\n",
    "    'offers_screen': 'max',\n",
    "    'cart_screen': 'max',\n",
    "    'payment_screen': 'max'\n",
    "})"
   ]
  },
  {
   "cell_type": "code",
   "execution_count": 46,
   "id": "ad423200-d946-4571-9704-7b63261fea87",
   "metadata": {},
   "outputs": [
    {
     "data": {
      "text/plain": [
       "0.6190861302062273"
      ]
     },
     "metadata": {},
     "output_type": "display_data"
    },
    {
     "data": {
      "text/plain": [
       "0.8129762682342695"
      ]
     },
     "metadata": {},
     "output_type": "display_data"
    },
    {
     "data": {
      "text/plain": [
       "0.9477771826459561"
      ]
     },
     "metadata": {},
     "output_type": "display_data"
    }
   ],
   "source": [
    "# Calcular proporciones\n",
    "\n",
    "main_to_offers = funnel['offers_screen'].sum() / funnel['main_screen'].sum()\n",
    "offers_to_cart = funnel['cart_screen'].sum() / funnel['offers_screen'].sum()\n",
    "cart_to_payment = funnel['payment_screen'].sum() / funnel['cart_screen'].sum()\n",
    "\n",
    "display(main_to_offers, offers_to_cart, cart_to_payment)"
   ]
  },
  {
   "cell_type": "code",
   "execution_count": 47,
   "id": "e4a094f2",
   "metadata": {},
   "outputs": [],
   "source": [
    "# Define la secuencia de eventos\n",
    "\n",
    "event_sequence = ['MainScreenAppear', 'OffersScreenAppear', 'CartScreenAppear', 'PaymentScreenSuccessful']\n",
    "\n",
    "# Calcular el numero de usuarios unicos\n",
    "\n",
    "funnel_data = filtered_data[filtered_data['event_name'].isin(event_sequence)]\n",
    "funnel_users = funnel_data.groupby('event_name')['device_id_hash'].nunique().reindex(event_sequence)"
   ]
  },
  {
   "cell_type": "code",
   "execution_count": 48,
   "id": "be97ff78",
   "metadata": {},
   "outputs": [
    {
     "data": {
      "application/vnd.plotly.v1+json": {
       "config": {
        "plotlyServerURL": "https://plot.ly"
       },
       "data": [
        {
         "textinfo": "value+percent initial",
         "type": "funnel",
         "x": [
          7419,
          4593,
          3734,
          3539
         ],
         "y": [
          "MainScreenAppear",
          "OffersScreenAppear",
          "CartScreenAppear",
          "PaymentScreenSuccessful"
         ]
        }
       ],
       "layout": {
        "showlegend": false,
        "template": {
         "data": {
          "bar": [
           {
            "error_x": {
             "color": "#2a3f5f"
            },
            "error_y": {
             "color": "#2a3f5f"
            },
            "marker": {
             "line": {
              "color": "#E5ECF6",
              "width": 0.5
             },
             "pattern": {
              "fillmode": "overlay",
              "size": 10,
              "solidity": 0.2
             }
            },
            "type": "bar"
           }
          ],
          "barpolar": [
           {
            "marker": {
             "line": {
              "color": "#E5ECF6",
              "width": 0.5
             },
             "pattern": {
              "fillmode": "overlay",
              "size": 10,
              "solidity": 0.2
             }
            },
            "type": "barpolar"
           }
          ],
          "carpet": [
           {
            "aaxis": {
             "endlinecolor": "#2a3f5f",
             "gridcolor": "white",
             "linecolor": "white",
             "minorgridcolor": "white",
             "startlinecolor": "#2a3f5f"
            },
            "baxis": {
             "endlinecolor": "#2a3f5f",
             "gridcolor": "white",
             "linecolor": "white",
             "minorgridcolor": "white",
             "startlinecolor": "#2a3f5f"
            },
            "type": "carpet"
           }
          ],
          "choropleth": [
           {
            "colorbar": {
             "outlinewidth": 0,
             "ticks": ""
            },
            "type": "choropleth"
           }
          ],
          "contour": [
           {
            "colorbar": {
             "outlinewidth": 0,
             "ticks": ""
            },
            "colorscale": [
             [
              0,
              "#0d0887"
             ],
             [
              0.1111111111111111,
              "#46039f"
             ],
             [
              0.2222222222222222,
              "#7201a8"
             ],
             [
              0.3333333333333333,
              "#9c179e"
             ],
             [
              0.4444444444444444,
              "#bd3786"
             ],
             [
              0.5555555555555556,
              "#d8576b"
             ],
             [
              0.6666666666666666,
              "#ed7953"
             ],
             [
              0.7777777777777778,
              "#fb9f3a"
             ],
             [
              0.8888888888888888,
              "#fdca26"
             ],
             [
              1,
              "#f0f921"
             ]
            ],
            "type": "contour"
           }
          ],
          "contourcarpet": [
           {
            "colorbar": {
             "outlinewidth": 0,
             "ticks": ""
            },
            "type": "contourcarpet"
           }
          ],
          "heatmap": [
           {
            "colorbar": {
             "outlinewidth": 0,
             "ticks": ""
            },
            "colorscale": [
             [
              0,
              "#0d0887"
             ],
             [
              0.1111111111111111,
              "#46039f"
             ],
             [
              0.2222222222222222,
              "#7201a8"
             ],
             [
              0.3333333333333333,
              "#9c179e"
             ],
             [
              0.4444444444444444,
              "#bd3786"
             ],
             [
              0.5555555555555556,
              "#d8576b"
             ],
             [
              0.6666666666666666,
              "#ed7953"
             ],
             [
              0.7777777777777778,
              "#fb9f3a"
             ],
             [
              0.8888888888888888,
              "#fdca26"
             ],
             [
              1,
              "#f0f921"
             ]
            ],
            "type": "heatmap"
           }
          ],
          "heatmapgl": [
           {
            "colorbar": {
             "outlinewidth": 0,
             "ticks": ""
            },
            "colorscale": [
             [
              0,
              "#0d0887"
             ],
             [
              0.1111111111111111,
              "#46039f"
             ],
             [
              0.2222222222222222,
              "#7201a8"
             ],
             [
              0.3333333333333333,
              "#9c179e"
             ],
             [
              0.4444444444444444,
              "#bd3786"
             ],
             [
              0.5555555555555556,
              "#d8576b"
             ],
             [
              0.6666666666666666,
              "#ed7953"
             ],
             [
              0.7777777777777778,
              "#fb9f3a"
             ],
             [
              0.8888888888888888,
              "#fdca26"
             ],
             [
              1,
              "#f0f921"
             ]
            ],
            "type": "heatmapgl"
           }
          ],
          "histogram": [
           {
            "marker": {
             "pattern": {
              "fillmode": "overlay",
              "size": 10,
              "solidity": 0.2
             }
            },
            "type": "histogram"
           }
          ],
          "histogram2d": [
           {
            "colorbar": {
             "outlinewidth": 0,
             "ticks": ""
            },
            "colorscale": [
             [
              0,
              "#0d0887"
             ],
             [
              0.1111111111111111,
              "#46039f"
             ],
             [
              0.2222222222222222,
              "#7201a8"
             ],
             [
              0.3333333333333333,
              "#9c179e"
             ],
             [
              0.4444444444444444,
              "#bd3786"
             ],
             [
              0.5555555555555556,
              "#d8576b"
             ],
             [
              0.6666666666666666,
              "#ed7953"
             ],
             [
              0.7777777777777778,
              "#fb9f3a"
             ],
             [
              0.8888888888888888,
              "#fdca26"
             ],
             [
              1,
              "#f0f921"
             ]
            ],
            "type": "histogram2d"
           }
          ],
          "histogram2dcontour": [
           {
            "colorbar": {
             "outlinewidth": 0,
             "ticks": ""
            },
            "colorscale": [
             [
              0,
              "#0d0887"
             ],
             [
              0.1111111111111111,
              "#46039f"
             ],
             [
              0.2222222222222222,
              "#7201a8"
             ],
             [
              0.3333333333333333,
              "#9c179e"
             ],
             [
              0.4444444444444444,
              "#bd3786"
             ],
             [
              0.5555555555555556,
              "#d8576b"
             ],
             [
              0.6666666666666666,
              "#ed7953"
             ],
             [
              0.7777777777777778,
              "#fb9f3a"
             ],
             [
              0.8888888888888888,
              "#fdca26"
             ],
             [
              1,
              "#f0f921"
             ]
            ],
            "type": "histogram2dcontour"
           }
          ],
          "mesh3d": [
           {
            "colorbar": {
             "outlinewidth": 0,
             "ticks": ""
            },
            "type": "mesh3d"
           }
          ],
          "parcoords": [
           {
            "line": {
             "colorbar": {
              "outlinewidth": 0,
              "ticks": ""
             }
            },
            "type": "parcoords"
           }
          ],
          "pie": [
           {
            "automargin": true,
            "type": "pie"
           }
          ],
          "scatter": [
           {
            "marker": {
             "colorbar": {
              "outlinewidth": 0,
              "ticks": ""
             }
            },
            "type": "scatter"
           }
          ],
          "scatter3d": [
           {
            "line": {
             "colorbar": {
              "outlinewidth": 0,
              "ticks": ""
             }
            },
            "marker": {
             "colorbar": {
              "outlinewidth": 0,
              "ticks": ""
             }
            },
            "type": "scatter3d"
           }
          ],
          "scattercarpet": [
           {
            "marker": {
             "colorbar": {
              "outlinewidth": 0,
              "ticks": ""
             }
            },
            "type": "scattercarpet"
           }
          ],
          "scattergeo": [
           {
            "marker": {
             "colorbar": {
              "outlinewidth": 0,
              "ticks": ""
             }
            },
            "type": "scattergeo"
           }
          ],
          "scattergl": [
           {
            "marker": {
             "colorbar": {
              "outlinewidth": 0,
              "ticks": ""
             }
            },
            "type": "scattergl"
           }
          ],
          "scattermapbox": [
           {
            "marker": {
             "colorbar": {
              "outlinewidth": 0,
              "ticks": ""
             }
            },
            "type": "scattermapbox"
           }
          ],
          "scatterpolar": [
           {
            "marker": {
             "colorbar": {
              "outlinewidth": 0,
              "ticks": ""
             }
            },
            "type": "scatterpolar"
           }
          ],
          "scatterpolargl": [
           {
            "marker": {
             "colorbar": {
              "outlinewidth": 0,
              "ticks": ""
             }
            },
            "type": "scatterpolargl"
           }
          ],
          "scatterternary": [
           {
            "marker": {
             "colorbar": {
              "outlinewidth": 0,
              "ticks": ""
             }
            },
            "type": "scatterternary"
           }
          ],
          "surface": [
           {
            "colorbar": {
             "outlinewidth": 0,
             "ticks": ""
            },
            "colorscale": [
             [
              0,
              "#0d0887"
             ],
             [
              0.1111111111111111,
              "#46039f"
             ],
             [
              0.2222222222222222,
              "#7201a8"
             ],
             [
              0.3333333333333333,
              "#9c179e"
             ],
             [
              0.4444444444444444,
              "#bd3786"
             ],
             [
              0.5555555555555556,
              "#d8576b"
             ],
             [
              0.6666666666666666,
              "#ed7953"
             ],
             [
              0.7777777777777778,
              "#fb9f3a"
             ],
             [
              0.8888888888888888,
              "#fdca26"
             ],
             [
              1,
              "#f0f921"
             ]
            ],
            "type": "surface"
           }
          ],
          "table": [
           {
            "cells": {
             "fill": {
              "color": "#EBF0F8"
             },
             "line": {
              "color": "white"
             }
            },
            "header": {
             "fill": {
              "color": "#C8D4E3"
             },
             "line": {
              "color": "white"
             }
            },
            "type": "table"
           }
          ]
         },
         "layout": {
          "annotationdefaults": {
           "arrowcolor": "#2a3f5f",
           "arrowhead": 0,
           "arrowwidth": 1
          },
          "autotypenumbers": "strict",
          "coloraxis": {
           "colorbar": {
            "outlinewidth": 0,
            "ticks": ""
           }
          },
          "colorscale": {
           "diverging": [
            [
             0,
             "#8e0152"
            ],
            [
             0.1,
             "#c51b7d"
            ],
            [
             0.2,
             "#de77ae"
            ],
            [
             0.3,
             "#f1b6da"
            ],
            [
             0.4,
             "#fde0ef"
            ],
            [
             0.5,
             "#f7f7f7"
            ],
            [
             0.6,
             "#e6f5d0"
            ],
            [
             0.7,
             "#b8e186"
            ],
            [
             0.8,
             "#7fbc41"
            ],
            [
             0.9,
             "#4d9221"
            ],
            [
             1,
             "#276419"
            ]
           ],
           "sequential": [
            [
             0,
             "#0d0887"
            ],
            [
             0.1111111111111111,
             "#46039f"
            ],
            [
             0.2222222222222222,
             "#7201a8"
            ],
            [
             0.3333333333333333,
             "#9c179e"
            ],
            [
             0.4444444444444444,
             "#bd3786"
            ],
            [
             0.5555555555555556,
             "#d8576b"
            ],
            [
             0.6666666666666666,
             "#ed7953"
            ],
            [
             0.7777777777777778,
             "#fb9f3a"
            ],
            [
             0.8888888888888888,
             "#fdca26"
            ],
            [
             1,
             "#f0f921"
            ]
           ],
           "sequentialminus": [
            [
             0,
             "#0d0887"
            ],
            [
             0.1111111111111111,
             "#46039f"
            ],
            [
             0.2222222222222222,
             "#7201a8"
            ],
            [
             0.3333333333333333,
             "#9c179e"
            ],
            [
             0.4444444444444444,
             "#bd3786"
            ],
            [
             0.5555555555555556,
             "#d8576b"
            ],
            [
             0.6666666666666666,
             "#ed7953"
            ],
            [
             0.7777777777777778,
             "#fb9f3a"
            ],
            [
             0.8888888888888888,
             "#fdca26"
            ],
            [
             1,
             "#f0f921"
            ]
           ]
          },
          "colorway": [
           "#636efa",
           "#EF553B",
           "#00cc96",
           "#ab63fa",
           "#FFA15A",
           "#19d3f3",
           "#FF6692",
           "#B6E880",
           "#FF97FF",
           "#FECB52"
          ],
          "font": {
           "color": "#2a3f5f"
          },
          "geo": {
           "bgcolor": "white",
           "lakecolor": "white",
           "landcolor": "#E5ECF6",
           "showlakes": true,
           "showland": true,
           "subunitcolor": "white"
          },
          "hoverlabel": {
           "align": "left"
          },
          "hovermode": "closest",
          "mapbox": {
           "style": "light"
          },
          "paper_bgcolor": "white",
          "plot_bgcolor": "#E5ECF6",
          "polar": {
           "angularaxis": {
            "gridcolor": "white",
            "linecolor": "white",
            "ticks": ""
           },
           "bgcolor": "#E5ECF6",
           "radialaxis": {
            "gridcolor": "white",
            "linecolor": "white",
            "ticks": ""
           }
          },
          "scene": {
           "xaxis": {
            "backgroundcolor": "#E5ECF6",
            "gridcolor": "white",
            "gridwidth": 2,
            "linecolor": "white",
            "showbackground": true,
            "ticks": "",
            "zerolinecolor": "white"
           },
           "yaxis": {
            "backgroundcolor": "#E5ECF6",
            "gridcolor": "white",
            "gridwidth": 2,
            "linecolor": "white",
            "showbackground": true,
            "ticks": "",
            "zerolinecolor": "white"
           },
           "zaxis": {
            "backgroundcolor": "#E5ECF6",
            "gridcolor": "white",
            "gridwidth": 2,
            "linecolor": "white",
            "showbackground": true,
            "ticks": "",
            "zerolinecolor": "white"
           }
          },
          "shapedefaults": {
           "line": {
            "color": "#2a3f5f"
           }
          },
          "ternary": {
           "aaxis": {
            "gridcolor": "white",
            "linecolor": "white",
            "ticks": ""
           },
           "baxis": {
            "gridcolor": "white",
            "linecolor": "white",
            "ticks": ""
           },
           "bgcolor": "#E5ECF6",
           "caxis": {
            "gridcolor": "white",
            "linecolor": "white",
            "ticks": ""
           }
          },
          "title": {
           "x": 0.05
          },
          "xaxis": {
           "automargin": true,
           "gridcolor": "white",
           "linecolor": "white",
           "ticks": "",
           "title": {
            "standoff": 15
           },
           "zerolinecolor": "white",
           "zerolinewidth": 2
          },
          "yaxis": {
           "automargin": true,
           "gridcolor": "white",
           "linecolor": "white",
           "ticks": "",
           "title": {
            "standoff": 15
           },
           "zerolinecolor": "white",
           "zerolinewidth": 2
          }
         }
        },
        "title": {
         "text": "Event Funnel Chart"
        },
        "xaxis": {
         "title": {
          "text": "Number of Users"
         }
        },
        "yaxis": {
         "title": {
          "text": "Event"
         }
        }
       }
      },
      "text/html": [
       "<div>                            <div id=\"76cc7748-096a-4e2e-bedb-0f62fbb0610c\" class=\"plotly-graph-div\" style=\"height:525px; width:100%;\"></div>            <script type=\"text/javascript\">                require([\"plotly\"], function(Plotly) {                    window.PLOTLYENV=window.PLOTLYENV || {};                                    if (document.getElementById(\"76cc7748-096a-4e2e-bedb-0f62fbb0610c\")) {                    Plotly.newPlot(                        \"76cc7748-096a-4e2e-bedb-0f62fbb0610c\",                        [{\"textinfo\":\"value+percent initial\",\"x\":[7419,4593,3734,3539],\"y\":[\"MainScreenAppear\",\"OffersScreenAppear\",\"CartScreenAppear\",\"PaymentScreenSuccessful\"],\"type\":\"funnel\"}],                        {\"template\":{\"data\":{\"bar\":[{\"error_x\":{\"color\":\"#2a3f5f\"},\"error_y\":{\"color\":\"#2a3f5f\"},\"marker\":{\"line\":{\"color\":\"#E5ECF6\",\"width\":0.5},\"pattern\":{\"fillmode\":\"overlay\",\"size\":10,\"solidity\":0.2}},\"type\":\"bar\"}],\"barpolar\":[{\"marker\":{\"line\":{\"color\":\"#E5ECF6\",\"width\":0.5},\"pattern\":{\"fillmode\":\"overlay\",\"size\":10,\"solidity\":0.2}},\"type\":\"barpolar\"}],\"carpet\":[{\"aaxis\":{\"endlinecolor\":\"#2a3f5f\",\"gridcolor\":\"white\",\"linecolor\":\"white\",\"minorgridcolor\":\"white\",\"startlinecolor\":\"#2a3f5f\"},\"baxis\":{\"endlinecolor\":\"#2a3f5f\",\"gridcolor\":\"white\",\"linecolor\":\"white\",\"minorgridcolor\":\"white\",\"startlinecolor\":\"#2a3f5f\"},\"type\":\"carpet\"}],\"choropleth\":[{\"colorbar\":{\"outlinewidth\":0,\"ticks\":\"\"},\"type\":\"choropleth\"}],\"contour\":[{\"colorbar\":{\"outlinewidth\":0,\"ticks\":\"\"},\"colorscale\":[[0.0,\"#0d0887\"],[0.1111111111111111,\"#46039f\"],[0.2222222222222222,\"#7201a8\"],[0.3333333333333333,\"#9c179e\"],[0.4444444444444444,\"#bd3786\"],[0.5555555555555556,\"#d8576b\"],[0.6666666666666666,\"#ed7953\"],[0.7777777777777778,\"#fb9f3a\"],[0.8888888888888888,\"#fdca26\"],[1.0,\"#f0f921\"]],\"type\":\"contour\"}],\"contourcarpet\":[{\"colorbar\":{\"outlinewidth\":0,\"ticks\":\"\"},\"type\":\"contourcarpet\"}],\"heatmap\":[{\"colorbar\":{\"outlinewidth\":0,\"ticks\":\"\"},\"colorscale\":[[0.0,\"#0d0887\"],[0.1111111111111111,\"#46039f\"],[0.2222222222222222,\"#7201a8\"],[0.3333333333333333,\"#9c179e\"],[0.4444444444444444,\"#bd3786\"],[0.5555555555555556,\"#d8576b\"],[0.6666666666666666,\"#ed7953\"],[0.7777777777777778,\"#fb9f3a\"],[0.8888888888888888,\"#fdca26\"],[1.0,\"#f0f921\"]],\"type\":\"heatmap\"}],\"heatmapgl\":[{\"colorbar\":{\"outlinewidth\":0,\"ticks\":\"\"},\"colorscale\":[[0.0,\"#0d0887\"],[0.1111111111111111,\"#46039f\"],[0.2222222222222222,\"#7201a8\"],[0.3333333333333333,\"#9c179e\"],[0.4444444444444444,\"#bd3786\"],[0.5555555555555556,\"#d8576b\"],[0.6666666666666666,\"#ed7953\"],[0.7777777777777778,\"#fb9f3a\"],[0.8888888888888888,\"#fdca26\"],[1.0,\"#f0f921\"]],\"type\":\"heatmapgl\"}],\"histogram\":[{\"marker\":{\"pattern\":{\"fillmode\":\"overlay\",\"size\":10,\"solidity\":0.2}},\"type\":\"histogram\"}],\"histogram2d\":[{\"colorbar\":{\"outlinewidth\":0,\"ticks\":\"\"},\"colorscale\":[[0.0,\"#0d0887\"],[0.1111111111111111,\"#46039f\"],[0.2222222222222222,\"#7201a8\"],[0.3333333333333333,\"#9c179e\"],[0.4444444444444444,\"#bd3786\"],[0.5555555555555556,\"#d8576b\"],[0.6666666666666666,\"#ed7953\"],[0.7777777777777778,\"#fb9f3a\"],[0.8888888888888888,\"#fdca26\"],[1.0,\"#f0f921\"]],\"type\":\"histogram2d\"}],\"histogram2dcontour\":[{\"colorbar\":{\"outlinewidth\":0,\"ticks\":\"\"},\"colorscale\":[[0.0,\"#0d0887\"],[0.1111111111111111,\"#46039f\"],[0.2222222222222222,\"#7201a8\"],[0.3333333333333333,\"#9c179e\"],[0.4444444444444444,\"#bd3786\"],[0.5555555555555556,\"#d8576b\"],[0.6666666666666666,\"#ed7953\"],[0.7777777777777778,\"#fb9f3a\"],[0.8888888888888888,\"#fdca26\"],[1.0,\"#f0f921\"]],\"type\":\"histogram2dcontour\"}],\"mesh3d\":[{\"colorbar\":{\"outlinewidth\":0,\"ticks\":\"\"},\"type\":\"mesh3d\"}],\"parcoords\":[{\"line\":{\"colorbar\":{\"outlinewidth\":0,\"ticks\":\"\"}},\"type\":\"parcoords\"}],\"pie\":[{\"automargin\":true,\"type\":\"pie\"}],\"scatter\":[{\"marker\":{\"colorbar\":{\"outlinewidth\":0,\"ticks\":\"\"}},\"type\":\"scatter\"}],\"scatter3d\":[{\"line\":{\"colorbar\":{\"outlinewidth\":0,\"ticks\":\"\"}},\"marker\":{\"colorbar\":{\"outlinewidth\":0,\"ticks\":\"\"}},\"type\":\"scatter3d\"}],\"scattercarpet\":[{\"marker\":{\"colorbar\":{\"outlinewidth\":0,\"ticks\":\"\"}},\"type\":\"scattercarpet\"}],\"scattergeo\":[{\"marker\":{\"colorbar\":{\"outlinewidth\":0,\"ticks\":\"\"}},\"type\":\"scattergeo\"}],\"scattergl\":[{\"marker\":{\"colorbar\":{\"outlinewidth\":0,\"ticks\":\"\"}},\"type\":\"scattergl\"}],\"scattermapbox\":[{\"marker\":{\"colorbar\":{\"outlinewidth\":0,\"ticks\":\"\"}},\"type\":\"scattermapbox\"}],\"scatterpolar\":[{\"marker\":{\"colorbar\":{\"outlinewidth\":0,\"ticks\":\"\"}},\"type\":\"scatterpolar\"}],\"scatterpolargl\":[{\"marker\":{\"colorbar\":{\"outlinewidth\":0,\"ticks\":\"\"}},\"type\":\"scatterpolargl\"}],\"scatterternary\":[{\"marker\":{\"colorbar\":{\"outlinewidth\":0,\"ticks\":\"\"}},\"type\":\"scatterternary\"}],\"surface\":[{\"colorbar\":{\"outlinewidth\":0,\"ticks\":\"\"},\"colorscale\":[[0.0,\"#0d0887\"],[0.1111111111111111,\"#46039f\"],[0.2222222222222222,\"#7201a8\"],[0.3333333333333333,\"#9c179e\"],[0.4444444444444444,\"#bd3786\"],[0.5555555555555556,\"#d8576b\"],[0.6666666666666666,\"#ed7953\"],[0.7777777777777778,\"#fb9f3a\"],[0.8888888888888888,\"#fdca26\"],[1.0,\"#f0f921\"]],\"type\":\"surface\"}],\"table\":[{\"cells\":{\"fill\":{\"color\":\"#EBF0F8\"},\"line\":{\"color\":\"white\"}},\"header\":{\"fill\":{\"color\":\"#C8D4E3\"},\"line\":{\"color\":\"white\"}},\"type\":\"table\"}]},\"layout\":{\"annotationdefaults\":{\"arrowcolor\":\"#2a3f5f\",\"arrowhead\":0,\"arrowwidth\":1},\"autotypenumbers\":\"strict\",\"coloraxis\":{\"colorbar\":{\"outlinewidth\":0,\"ticks\":\"\"}},\"colorscale\":{\"diverging\":[[0,\"#8e0152\"],[0.1,\"#c51b7d\"],[0.2,\"#de77ae\"],[0.3,\"#f1b6da\"],[0.4,\"#fde0ef\"],[0.5,\"#f7f7f7\"],[0.6,\"#e6f5d0\"],[0.7,\"#b8e186\"],[0.8,\"#7fbc41\"],[0.9,\"#4d9221\"],[1,\"#276419\"]],\"sequential\":[[0.0,\"#0d0887\"],[0.1111111111111111,\"#46039f\"],[0.2222222222222222,\"#7201a8\"],[0.3333333333333333,\"#9c179e\"],[0.4444444444444444,\"#bd3786\"],[0.5555555555555556,\"#d8576b\"],[0.6666666666666666,\"#ed7953\"],[0.7777777777777778,\"#fb9f3a\"],[0.8888888888888888,\"#fdca26\"],[1.0,\"#f0f921\"]],\"sequentialminus\":[[0.0,\"#0d0887\"],[0.1111111111111111,\"#46039f\"],[0.2222222222222222,\"#7201a8\"],[0.3333333333333333,\"#9c179e\"],[0.4444444444444444,\"#bd3786\"],[0.5555555555555556,\"#d8576b\"],[0.6666666666666666,\"#ed7953\"],[0.7777777777777778,\"#fb9f3a\"],[0.8888888888888888,\"#fdca26\"],[1.0,\"#f0f921\"]]},\"colorway\":[\"#636efa\",\"#EF553B\",\"#00cc96\",\"#ab63fa\",\"#FFA15A\",\"#19d3f3\",\"#FF6692\",\"#B6E880\",\"#FF97FF\",\"#FECB52\"],\"font\":{\"color\":\"#2a3f5f\"},\"geo\":{\"bgcolor\":\"white\",\"lakecolor\":\"white\",\"landcolor\":\"#E5ECF6\",\"showlakes\":true,\"showland\":true,\"subunitcolor\":\"white\"},\"hoverlabel\":{\"align\":\"left\"},\"hovermode\":\"closest\",\"mapbox\":{\"style\":\"light\"},\"paper_bgcolor\":\"white\",\"plot_bgcolor\":\"#E5ECF6\",\"polar\":{\"angularaxis\":{\"gridcolor\":\"white\",\"linecolor\":\"white\",\"ticks\":\"\"},\"bgcolor\":\"#E5ECF6\",\"radialaxis\":{\"gridcolor\":\"white\",\"linecolor\":\"white\",\"ticks\":\"\"}},\"scene\":{\"xaxis\":{\"backgroundcolor\":\"#E5ECF6\",\"gridcolor\":\"white\",\"gridwidth\":2,\"linecolor\":\"white\",\"showbackground\":true,\"ticks\":\"\",\"zerolinecolor\":\"white\"},\"yaxis\":{\"backgroundcolor\":\"#E5ECF6\",\"gridcolor\":\"white\",\"gridwidth\":2,\"linecolor\":\"white\",\"showbackground\":true,\"ticks\":\"\",\"zerolinecolor\":\"white\"},\"zaxis\":{\"backgroundcolor\":\"#E5ECF6\",\"gridcolor\":\"white\",\"gridwidth\":2,\"linecolor\":\"white\",\"showbackground\":true,\"ticks\":\"\",\"zerolinecolor\":\"white\"}},\"shapedefaults\":{\"line\":{\"color\":\"#2a3f5f\"}},\"ternary\":{\"aaxis\":{\"gridcolor\":\"white\",\"linecolor\":\"white\",\"ticks\":\"\"},\"baxis\":{\"gridcolor\":\"white\",\"linecolor\":\"white\",\"ticks\":\"\"},\"bgcolor\":\"#E5ECF6\",\"caxis\":{\"gridcolor\":\"white\",\"linecolor\":\"white\",\"ticks\":\"\"}},\"title\":{\"x\":0.05},\"xaxis\":{\"automargin\":true,\"gridcolor\":\"white\",\"linecolor\":\"white\",\"ticks\":\"\",\"title\":{\"standoff\":15},\"zerolinecolor\":\"white\",\"zerolinewidth\":2},\"yaxis\":{\"automargin\":true,\"gridcolor\":\"white\",\"linecolor\":\"white\",\"ticks\":\"\",\"title\":{\"standoff\":15},\"zerolinecolor\":\"white\",\"zerolinewidth\":2}}},\"title\":{\"text\":\"Event Funnel Chart\"},\"xaxis\":{\"title\":{\"text\":\"Number of Users\"}},\"yaxis\":{\"title\":{\"text\":\"Event\"}},\"showlegend\":false},                        {\"responsive\": true}                    ).then(function(){\n",
       "                            \n",
       "var gd = document.getElementById('76cc7748-096a-4e2e-bedb-0f62fbb0610c');\n",
       "var x = new MutationObserver(function (mutations, observer) {{\n",
       "        var display = window.getComputedStyle(gd).display;\n",
       "        if (!display || display === 'none') {{\n",
       "            console.log([gd, 'removed!']);\n",
       "            Plotly.purge(gd);\n",
       "            observer.disconnect();\n",
       "        }}\n",
       "}});\n",
       "\n",
       "// Listen for the removal of the full notebook cells\n",
       "var notebookContainer = gd.closest('#notebook-container');\n",
       "if (notebookContainer) {{\n",
       "    x.observe(notebookContainer, {childList: true});\n",
       "}}\n",
       "\n",
       "// Listen for the clearing of the current output cell\n",
       "var outputEl = gd.closest('.output');\n",
       "if (outputEl) {{\n",
       "    x.observe(outputEl, {childList: true});\n",
       "}}\n",
       "\n",
       "                        })                };                });            </script>        </div>"
      ]
     },
     "metadata": {},
     "output_type": "display_data"
    }
   ],
   "source": [
    "# Crear el gráfico de embudo\n",
    "\n",
    "fig = go.Figure(go.Funnel(\n",
    "    y=funnel_users.index,\n",
    "    x=funnel_users.values,\n",
    "    textinfo=\"value+percent initial\"))\n",
    "\n",
    "fig.update_layout(\n",
    "    title=\"Event Funnel Chart\",\n",
    "    xaxis_title=\"Number of Users\",\n",
    "    yaxis_title=\"Event\",\n",
    "    showlegend=False\n",
    ")\n",
    "\n",
    "fig.show()"
   ]
  },
  {
   "cell_type": "markdown",
   "id": "5709d0e6-9ff5-45f0-bda5-b2bd1e15664d",
   "metadata": {},
   "source": [
    "* Main Screen a Offers Screen: Una proporción significativa de usuarios pasa de la pantalla principal a la pantalla de ofertas.\n",
    "* Offers Screen a Cart Screen: Una proporción menor pasa de la pantalla de ofertas a la pantalla de carrito.\n",
    "* Cart Screen a Payment Screen: Finalmente, una proporción aún más reducida completa la compra."
   ]
  },
  {
   "cell_type": "markdown",
   "id": "05e5ac96-4ae3-45b1-a38d-4886bc6f6f2d",
   "metadata": {},
   "source": [
    "### ¿En qué etapa pierdes más usuarios y usuarias?"
   ]
  },
  {
   "cell_type": "code",
   "execution_count": 32,
   "id": "e40fe6ef-38c1-4e66-95e2-e2752fed936f",
   "metadata": {},
   "outputs": [
    {
     "data": {
      "text/plain": [
       "'Main to Offers'"
      ]
     },
     "execution_count": 32,
     "metadata": {},
     "output_type": "execute_result"
    }
   ],
   "source": [
    "# Determinar la etapa\n",
    "\n",
    "drop_offs = {\n",
    "    \"Main to Offers\": 1 - main_to_offers,\n",
    "    \"Offers to Cart\": 1 - offers_to_cart,\n",
    "    \"Cart to Payment\": 1 - cart_to_payment\n",
    "}\n",
    "biggest_drop_off_stage = max(drop_offs, key=drop_offs.get)\n",
    "\n",
    "biggest_drop_off_stage"
   ]
  },
  {
   "cell_type": "code",
   "execution_count": 33,
   "id": "8ab4066b",
   "metadata": {},
   "outputs": [
    {
     "data": {
      "text/plain": [
       "38.091386979377276"
      ]
     },
     "execution_count": 33,
     "metadata": {},
     "output_type": "execute_result"
    }
   ],
   "source": [
    "# Calcular el número de usuarios de los dos niveles\n",
    "\n",
    "main_screen_users = filtered_data[filtered_data['event_name'] == 'MainScreenAppear']['device_id_hash'].nunique()\n",
    "offers_screen_users = filtered_data[filtered_data['event_name'] == 'OffersScreenAppear']['device_id_hash'].nunique()\n",
    "\n",
    "# Calcular el porcentaje de usuarios perdidos\n",
    "\n",
    "users_lost_percentage = ((main_screen_users - offers_screen_users) / main_screen_users) * 100\n",
    "\n",
    "users_lost_percentage\n"
   ]
  },
  {
   "cell_type": "markdown",
   "id": "2e267b29-46c7-449c-aa81-470eec73d001",
   "metadata": {},
   "source": [
    "* El mayor porcentaje de usuarios (38.09%) se pierde entre la pantalla principal y la de ofertas, lo que indica que este es el punto crítico en el embudo."
   ]
  },
  {
   "cell_type": "markdown",
   "id": "eead53d2-9c2a-4567-bdcc-d514dd013c60",
   "metadata": {},
   "source": [
    "### ¿Qué porcentaje de usuarios y usuarias hace todo el viaje desde su primer evento hasta el pago?"
   ]
  },
  {
   "cell_type": "code",
   "execution_count": 34,
   "id": "8dd2180e-f6c1-42fd-bef6-b4ad1e105b47",
   "metadata": {},
   "outputs": [
    {
     "data": {
      "text/plain": [
       "0.47701846610055265"
      ]
     },
     "execution_count": 34,
     "metadata": {},
     "output_type": "execute_result"
    }
   ],
   "source": [
    "# Calcular el porcentaje\n",
    "\n",
    "full_journey_percentage = funnel['payment_screen'].sum() / funnel['main_screen'].sum()\n",
    "\n",
    "full_journey_percentage"
   ]
  },
  {
   "cell_type": "markdown",
   "id": "490f945f-9b45-48bc-a5ab-db802d116ca9",
   "metadata": {},
   "source": [
    "* Sólo un bajo porcentaje de usuarios (47.70%) completa todo el viaje desde el primer evento hasta el pago."
   ]
  },
  {
   "cell_type": "markdown",
   "id": "faa29cd8-ff15-477b-ae6c-6d3a8f80734b",
   "metadata": {},
   "source": [
    "## Paso 5. Estudiar los resultados del experimento\n",
    "\n",
    "* ¿Cuántos usuarios y usuarias hay en cada grupo?\n",
    "* Tenemos dos grupos de control en el test A/A, donde comprobamos nuestros mecanismos y cálculos. Observa si hay una diferencia estadísticamente significativa entre las muestras 246 y 247.\n",
    "* Selecciona el evento más popular. En cada uno de los grupos de control, encuentra la cantidad de usuarios y usuarias que realizaron esta acción. Encuentra su proporción. Comprueba si la diferencia entre los grupos es estadísticamente significativa. Repite el procedimiento para todos los demás eventos (ahorrarás tiempo si creas una función especial para esta prueba). ¿Puedes confirmar que los grupos se dividieron correctamente?\n",
    "* Haz lo mismo para el grupo con fuentes alteradas. Compara los resultados con los de cada uno de los grupos de control para cada evento de forma aislada. Compara los resultados con los resultados combinados de los grupos de control. ¿Qué conclusiones puedes sacar del experimento?\n",
    "* ¿Qué nivel de significación has establecido para probar las hipótesis estadísticas mencionadas anteriormente? Calcula cuántas pruebas de hipótesis estadísticas has realizado. Con un nivel de significancia estadística de 0.1, uno de cada 10 resultados podría ser falso. ¿Cuál debería ser el nivel de significación? Si deseas cambiarlo, vuelve a ejecutar los pasos anteriores y comprueba tus conclusiones."
   ]
  },
  {
   "cell_type": "markdown",
   "id": "2250c4d4-7202-4f0e-9244-5bdfa466db33",
   "metadata": {},
   "source": [
    "### ¿Cuántos usuarios y usuarias hay en cada grupo?"
   ]
  },
  {
   "cell_type": "code",
   "execution_count": 35,
   "id": "ef362716-1288-4706-9b67-f5636888ae2c",
   "metadata": {},
   "outputs": [
    {
     "data": {
      "text/plain": [
       "exp_id\n",
       "246    2484\n",
       "247    2513\n",
       "248    2537\n",
       "Name: device_id_hash, dtype: int64"
      ]
     },
     "execution_count": 35,
     "metadata": {},
     "output_type": "execute_result"
    }
   ],
   "source": [
    "# Contar la cantidad de usuarios por grupo experimental\n",
    "\n",
    "users_per_group = filtered_data.groupby('exp_id')['device_id_hash'].nunique()\n",
    "\n",
    "users_per_group"
   ]
  },
  {
   "cell_type": "markdown",
   "id": "3ffec644-88ba-4373-91ab-b1e34dcf5ac7",
   "metadata": {},
   "source": [
    "### Tenemos dos grupos de control en el test A/A, donde comprobamos nuestros mecanismos y cálculos. Observa si hay una diferencia estadísticamente significativa entre las muestras 246 y 247."
   ]
  },
  {
   "cell_type": "code",
   "execution_count": 36,
   "id": "3d9379e9-01d6-423e-afb6-a448d164552a",
   "metadata": {},
   "outputs": [],
   "source": [
    "# Filtrar los datos de los grupos\n",
    "\n",
    "group_246 = filtered_data[filtered_data['exp_id'] == 246]\n",
    "group_247 = filtered_data[filtered_data['exp_id'] == 247]"
   ]
  },
  {
   "cell_type": "code",
   "execution_count": 37,
   "id": "f830376f-d9f2-4617-8b6e-dd8aadb23488",
   "metadata": {},
   "outputs": [],
   "source": [
    "# Calcular el numero de eventos por usuario en cada grupo\n",
    "\n",
    "events_per_user_246 = group_246.groupby('device_id_hash')['event_name'].count()\n",
    "events_per_user_247 = group_247.groupby('device_id_hash')['event_name'].count()"
   ]
  },
  {
   "cell_type": "markdown",
   "id": "c116aa9b-686e-4ffd-ab5c-6eb41301e203",
   "metadata": {},
   "source": [
    "* Declaración de hipótesis\n",
    "\n",
    "H0: Hay una diferencia estadísticamente signficativa entre los grupos 246 y 247.\n",
    "\n",
    "H1: No hay una diferencia estadísticamente signficativa entre los grupos 246 y 247."
   ]
  },
  {
   "cell_type": "code",
   "execution_count": 49,
   "id": "57442727-b387-4d52-ad6d-3bf6ca9386fe",
   "metadata": {},
   "outputs": [
    {
     "name": "stdout",
     "output_type": "stream",
     "text": [
      "valor p: 0.4584152588842866\n",
      "No podemos rechazar la hipótesis nula\n"
     ]
    }
   ],
   "source": [
    "# Realizar t-test entre los dos grupos de control\n",
    "\n",
    "alpha = 0.05\n",
    "\n",
    "results = st.ttest_ind(\n",
    "    events_per_user_246,\n",
    "    events_per_user_247,\n",
    "    equal_var = False)\n",
    "\n",
    "print('valor p:', results.pvalue)\n",
    "\n",
    "if (results.pvalue < alpha):\n",
    "    print(\"Rechazamos la hipótesis nula\")\n",
    "else:\n",
    "    print(\"No podemos rechazar la hipótesis nula\")"
   ]
  },
  {
   "cell_type": "markdown",
   "id": "e9d049e1-b6a4-42e3-a4ac-ab217d70a8fc",
   "metadata": {},
   "source": [
    "* El valor p nos indica que si hay una diferencia signficativa entre los dos grupos"
   ]
  },
  {
   "cell_type": "markdown",
   "id": "ef135dbf-0583-4d41-a10d-087872ae38c0",
   "metadata": {},
   "source": [
    "### Selecciona el evento más popular. En cada uno de los grupos de control, encuentra la cantidad de usuarios y usuarias que realizaron esta acción. Encuentra su proporción. Comprueba si la diferencia entre los grupos es estadísticamente significativa. Repite el procedimiento para todos los demás eventos (ahorrarás tiempo si creas una función especial para esta prueba). ¿Puedes confirmar que los grupos se dividieron correctamente?"
   ]
  },
  {
   "cell_type": "code",
   "execution_count": 39,
   "id": "836e3568",
   "metadata": {},
   "outputs": [],
   "source": [
    "# Definir una función para realizar un análisis para cada evento\n",
    "\n",
    "def analyze_event_proportion(event_name, group_control_1, group_control_2):\n",
    "   \n",
    "    # Filtrar datos por cada grupo y evento\n",
    "    \n",
    "    group1_users = filtered_data[(filtered_data['event_name'] == event_name) & (filtered_data['exp_id'] == group_control_1)]['device_id_hash'].unique()\n",
    "    group2_users = filtered_data[(filtered_data['event_name'] == event_name) & (filtered_data['exp_id'] == group_control_2)]['device_id_hash'].unique()\n",
    "    \n",
    "    # Calcular la proporción de usuarios que realizaron la acción en cada grupo\n",
    "    \n",
    "    group1_proportion = len(group1_users) / filtered_data[filtered_data['exp_id'] == group_control_1]['device_id_hash'].nunique()\n",
    "    group2_proportion = len(group2_users) / filtered_data[filtered_data['exp_id'] == group_control_2]['device_id_hash'].nunique()\n",
    "    \n",
    "     # Realizar el t-test\n",
    "    \n",
    "    group1_data = filtered_data[(filtered_data['exp_id'] == group_control_1)]['device_id_hash'].unique()\n",
    "    group2_data = filtered_data[(filtered_data['exp_id'] == group_control_2)]['device_id_hash'].unique()\n",
    "    \n",
    "    group1_binary = [1 if user in group1_users else 0 for user in group1_data]\n",
    "    group2_binary = [1 if user in group2_users else 0 for user in group2_data]\n",
    "    \n",
    "    t_stat, p_value = ttest_ind(group1_binary, group2_binary)\n",
    "    \n",
    "    return {\n",
    "        'event_name': event_name,\n",
    "        'group1_proportion': group1_proportion,\n",
    "        'group2_proportion': group2_proportion,\n",
    "        't_statistic': t_stat,\n",
    "        'p_value': p_value\n",
    "}"
   ]
  },
  {
   "cell_type": "markdown",
   "id": "b01ad907",
   "metadata": {},
   "source": [
    "\n",
    "<b>Declaración de hipótesis</b> <a class=\"tocSkip\"></a>\n",
    "\n",
    "H0: Hay una diferencia estadísticamente signficativa entre la proporción de usuarios en cada evento de los grupos 246 y 247.\n",
    "\n",
    "H1: No hay una diferencia estadísticamente signficativa entre la proporción de usuarios en cada evento de los grupos 246 y 247.\n",
    "\n",
    "Nivel de signifcación de 0.05."
   ]
  },
  {
   "cell_type": "code",
   "execution_count": 40,
   "id": "267fde61-b9d9-47f5-9a98-5e07cbf58938",
   "metadata": {},
   "outputs": [
    {
     "data": {
      "text/html": [
       "<div>\n",
       "<style scoped>\n",
       "    .dataframe tbody tr th:only-of-type {\n",
       "        vertical-align: middle;\n",
       "    }\n",
       "\n",
       "    .dataframe tbody tr th {\n",
       "        vertical-align: top;\n",
       "    }\n",
       "\n",
       "    .dataframe thead th {\n",
       "        text-align: right;\n",
       "    }\n",
       "</style>\n",
       "<table border=\"1\" class=\"dataframe\">\n",
       "  <thead>\n",
       "    <tr style=\"text-align: right;\">\n",
       "      <th></th>\n",
       "      <th>event_name</th>\n",
       "      <th>group1_proportion</th>\n",
       "      <th>group2_proportion</th>\n",
       "      <th>t_statistic</th>\n",
       "      <th>p_value</th>\n",
       "    </tr>\n",
       "  </thead>\n",
       "  <tbody>\n",
       "    <tr>\n",
       "      <th>0</th>\n",
       "      <td>MainScreenAppear</td>\n",
       "      <td>0.986312</td>\n",
       "      <td>0.985277</td>\n",
       "      <td>0.309285</td>\n",
       "      <td>0.757117</td>\n",
       "    </tr>\n",
       "    <tr>\n",
       "      <th>1</th>\n",
       "      <td>OffersScreenAppear</td>\n",
       "      <td>0.620773</td>\n",
       "      <td>0.604855</td>\n",
       "      <td>1.154911</td>\n",
       "      <td>0.248182</td>\n",
       "    </tr>\n",
       "    <tr>\n",
       "      <th>2</th>\n",
       "      <td>CartScreenAppear</td>\n",
       "      <td>0.509662</td>\n",
       "      <td>0.492638</td>\n",
       "      <td>1.203302</td>\n",
       "      <td>0.228916</td>\n",
       "    </tr>\n",
       "    <tr>\n",
       "      <th>3</th>\n",
       "      <td>PaymentScreenSuccessful</td>\n",
       "      <td>0.483092</td>\n",
       "      <td>0.460804</td>\n",
       "      <td>1.578072</td>\n",
       "      <td>0.114612</td>\n",
       "    </tr>\n",
       "  </tbody>\n",
       "</table>\n",
       "</div>"
      ],
      "text/plain": [
       "                event_name  group1_proportion  group2_proportion  t_statistic  \\\n",
       "0         MainScreenAppear           0.986312           0.985277     0.309285   \n",
       "1       OffersScreenAppear           0.620773           0.604855     1.154911   \n",
       "2         CartScreenAppear           0.509662           0.492638     1.203302   \n",
       "3  PaymentScreenSuccessful           0.483092           0.460804     1.578072   \n",
       "\n",
       "    p_value  \n",
       "0  0.757117  \n",
       "1  0.248182  \n",
       "2  0.228916  \n",
       "3  0.114612  "
      ]
     },
     "execution_count": 40,
     "metadata": {},
     "output_type": "execute_result"
    }
   ],
   "source": [
    "# Ejecutar función y presentar en un dataframe\n",
    "\n",
    "funnel_events = ['MainScreenAppear', 'OffersScreenAppear', 'CartScreenAppear', 'PaymentScreenSuccessful']\n",
    "\n",
    "results_df1 = pd.DataFrame([analyze_event_proportion(event, 246, 247) for event in funnel_events])\n",
    "\n",
    "results_df1"
   ]
  },
  {
   "cell_type": "markdown",
   "id": "52c98261",
   "metadata": {},
   "source": [
    "* Al no resultar ningun 'p_value' ser menor que el valor de significación (alpha=0.05), no es posible rechazar la hipótesis nula en ninguno de los eventos. Es muy probable que todas las proporciones tengan una diferencia estadistica significativa entre los dos grupos.\n",
    "* Por lo tanto esto nos indica que los grupos no fueron divididos correctamente."
   ]
  },
  {
   "cell_type": "markdown",
   "id": "7fff777c-74c1-43e4-8766-c6a006c957bf",
   "metadata": {},
   "source": [
    "### Haz lo mismo para el grupo con fuentes alteradas. Compara los resultados con los de cada uno de los grupos de control para cada evento de forma aislada. Compara los resultados con los resultados combinados de los grupos de control. ¿Qué conclusiones puedes sacar del experimento?"
   ]
  },
  {
   "cell_type": "markdown",
   "id": "80c08610",
   "metadata": {},
   "source": [
    "<b>Declaración de hipótesis</b> <a class=\"tocSkip\"></a>\n",
    "\n",
    "H0: Hay una diferencia estadísticamente signficativa entre la proporción de usuarios en cada evento de los grupos 246 y 248.\n",
    "\n",
    "H1: No hay una diferencia estadísticamente signficativa entre la proporción de usuarios en cada evento de los grupos 246 y 248.\n",
    "\n",
    "Nivel de signifcación de 0.05."
   ]
  },
  {
   "cell_type": "code",
   "execution_count": 41,
   "id": "44f692d4-c369-4837-b794-36406b472a46",
   "metadata": {
    "scrolled": true
   },
   "outputs": [
    {
     "data": {
      "text/html": [
       "<div>\n",
       "<style scoped>\n",
       "    .dataframe tbody tr th:only-of-type {\n",
       "        vertical-align: middle;\n",
       "    }\n",
       "\n",
       "    .dataframe tbody tr th {\n",
       "        vertical-align: top;\n",
       "    }\n",
       "\n",
       "    .dataframe thead th {\n",
       "        text-align: right;\n",
       "    }\n",
       "</style>\n",
       "<table border=\"1\" class=\"dataframe\">\n",
       "  <thead>\n",
       "    <tr style=\"text-align: right;\">\n",
       "      <th></th>\n",
       "      <th>event_name</th>\n",
       "      <th>group1_proportion</th>\n",
       "      <th>group2_proportion</th>\n",
       "      <th>t_statistic</th>\n",
       "      <th>p_value</th>\n",
       "    </tr>\n",
       "  </thead>\n",
       "  <tbody>\n",
       "    <tr>\n",
       "      <th>0</th>\n",
       "      <td>MainScreenAppear</td>\n",
       "      <td>0.986312</td>\n",
       "      <td>0.982657</td>\n",
       "      <td>1.047182</td>\n",
       "      <td>0.295066</td>\n",
       "    </tr>\n",
       "    <tr>\n",
       "      <th>1</th>\n",
       "      <td>OffersScreenAppear</td>\n",
       "      <td>0.620773</td>\n",
       "      <td>0.603469</td>\n",
       "      <td>1.258030</td>\n",
       "      <td>0.208439</td>\n",
       "    </tr>\n",
       "    <tr>\n",
       "      <th>2</th>\n",
       "      <td>CartScreenAppear</td>\n",
       "      <td>0.509662</td>\n",
       "      <td>0.484825</td>\n",
       "      <td>1.760066</td>\n",
       "      <td>0.078458</td>\n",
       "    </tr>\n",
       "    <tr>\n",
       "      <th>3</th>\n",
       "      <td>PaymentScreenSuccessful</td>\n",
       "      <td>0.483092</td>\n",
       "      <td>0.465510</td>\n",
       "      <td>1.247333</td>\n",
       "      <td>0.212334</td>\n",
       "    </tr>\n",
       "  </tbody>\n",
       "</table>\n",
       "</div>"
      ],
      "text/plain": [
       "                event_name  group1_proportion  group2_proportion  t_statistic  \\\n",
       "0         MainScreenAppear           0.986312           0.982657     1.047182   \n",
       "1       OffersScreenAppear           0.620773           0.603469     1.258030   \n",
       "2         CartScreenAppear           0.509662           0.484825     1.760066   \n",
       "3  PaymentScreenSuccessful           0.483092           0.465510     1.247333   \n",
       "\n",
       "    p_value  \n",
       "0  0.295066  \n",
       "1  0.208439  \n",
       "2  0.078458  \n",
       "3  0.212334  "
      ]
     },
     "execution_count": 41,
     "metadata": {},
     "output_type": "execute_result"
    }
   ],
   "source": [
    "results_df2 = pd.DataFrame([analyze_event_proportion(event, 246, 248) for event in funnel_events])\n",
    "\n",
    "results_df2"
   ]
  },
  {
   "cell_type": "markdown",
   "id": "1f5ee298",
   "metadata": {},
   "source": [
    "* Si bien ningún p_value fue menor que el nivel de significancia, definitivamente los valores estuvieron mucho mas cercanos a rechazar la hipótesis nula, en comparación con el analisis anterior de los grupos de control.\n",
    "* Igual que el caso anterior, no se puede rechazar la hipótesis nula."
   ]
  },
  {
   "cell_type": "markdown",
   "id": "11ee590d",
   "metadata": {},
   "source": [
    "<b>Declaración de hipótesis</b> <a class=\"tocSkip\"></a>\n",
    "\n",
    "H0: Hay una diferencia estadísticamente signficativa entre la proporción de usuarios en cada evento de los grupos 247 y 248.\n",
    "\n",
    "H1: No hay una diferencia estadísticamente signficativa entre la proporción de usuarios en cada evento de los grupos 247 y 248.\n",
    "\n",
    "Nivel de signifcación de 0.05."
   ]
  },
  {
   "cell_type": "code",
   "execution_count": 42,
   "id": "51ee09dd-51c5-4273-8bfa-6dd6238a7605",
   "metadata": {
    "scrolled": true
   },
   "outputs": [
    {
     "data": {
      "text/html": [
       "<div>\n",
       "<style scoped>\n",
       "    .dataframe tbody tr th:only-of-type {\n",
       "        vertical-align: middle;\n",
       "    }\n",
       "\n",
       "    .dataframe tbody tr th {\n",
       "        vertical-align: top;\n",
       "    }\n",
       "\n",
       "    .dataframe thead th {\n",
       "        text-align: right;\n",
       "    }\n",
       "</style>\n",
       "<table border=\"1\" class=\"dataframe\">\n",
       "  <thead>\n",
       "    <tr style=\"text-align: right;\">\n",
       "      <th></th>\n",
       "      <th>event_name</th>\n",
       "      <th>group1_proportion</th>\n",
       "      <th>group2_proportion</th>\n",
       "      <th>t_statistic</th>\n",
       "      <th>p_value</th>\n",
       "    </tr>\n",
       "  </thead>\n",
       "  <tbody>\n",
       "    <tr>\n",
       "      <th>0</th>\n",
       "      <td>MainScreenAppear</td>\n",
       "      <td>0.985277</td>\n",
       "      <td>0.982657</td>\n",
       "      <td>0.740874</td>\n",
       "      <td>0.458804</td>\n",
       "    </tr>\n",
       "    <tr>\n",
       "      <th>1</th>\n",
       "      <td>OffersScreenAppear</td>\n",
       "      <td>0.604855</td>\n",
       "      <td>0.603469</td>\n",
       "      <td>0.100689</td>\n",
       "      <td>0.919802</td>\n",
       "    </tr>\n",
       "    <tr>\n",
       "      <th>2</th>\n",
       "      <td>CartScreenAppear</td>\n",
       "      <td>0.492638</td>\n",
       "      <td>0.484825</td>\n",
       "      <td>0.555309</td>\n",
       "      <td>0.578708</td>\n",
       "    </tr>\n",
       "    <tr>\n",
       "      <th>3</th>\n",
       "      <td>PaymentScreenSuccessful</td>\n",
       "      <td>0.460804</td>\n",
       "      <td>0.465510</td>\n",
       "      <td>-0.335313</td>\n",
       "      <td>0.737403</td>\n",
       "    </tr>\n",
       "  </tbody>\n",
       "</table>\n",
       "</div>"
      ],
      "text/plain": [
       "                event_name  group1_proportion  group2_proportion  t_statistic  \\\n",
       "0         MainScreenAppear           0.985277           0.982657     0.740874   \n",
       "1       OffersScreenAppear           0.604855           0.603469     0.100689   \n",
       "2         CartScreenAppear           0.492638           0.484825     0.555309   \n",
       "3  PaymentScreenSuccessful           0.460804           0.465510    -0.335313   \n",
       "\n",
       "    p_value  \n",
       "0  0.458804  \n",
       "1  0.919802  \n",
       "2  0.578708  \n",
       "3  0.737403  "
      ]
     },
     "execution_count": 42,
     "metadata": {},
     "output_type": "execute_result"
    }
   ],
   "source": [
    "results_df3 = pd.DataFrame([analyze_event_proportion(event, 247, 248) for event in funnel_events])\n",
    "\n",
    "results_df3"
   ]
  },
  {
   "cell_type": "markdown",
   "id": "0909aeee",
   "metadata": {},
   "source": [
    "* En esta comparación, la diferencia estadistica es aún menor. Los valores de p son mas cercanos a 1.\n",
    "* Por tercera vez, no se puede rechazar la hipótesis nula."
   ]
  },
  {
   "cell_type": "markdown",
   "id": "ee5d11ce",
   "metadata": {},
   "source": [
    "* Las conclusiones que pude sacar del experimento es que los grupos de control no fueron propiamente divididos por lo que tienen una marcada diferencia estadisticamente significativa.\n",
    "* Por ello al comparar los grupos A con el B (fuentes alteradas) los resultados son diferentes en cada caso, pero debido al nivel de signifcancia de alpha=0.05, en ambas comparaciones no alcanza para poder rechazar la hipótesis nula."
   ]
  },
  {
   "cell_type": "markdown",
   "id": "bee2e6ea-73a2-4198-916a-bead80300900",
   "metadata": {},
   "source": [
    "### ¿Qué nivel de significación has establecido para probar las hipótesis estadísticas mencionadas anteriormente? Calcula cuántas pruebas de hipótesis estadísticas has realizado. Con un nivel de significancia estadística de 0.1, uno de cada 10 resultados podría ser falso. ¿Cuál debería ser el nivel de significación? Si deseas cambiarlo, vuelve a ejecutar los pasos anteriores y comprueba tus conclusiones."
   ]
  },
  {
   "cell_type": "markdown",
   "id": "6692f010",
   "metadata": {},
   "source": [
    "* Para las pruebas de hipótesis estadísticas utilizando el t-test de Student, he utilizado un nivel de significación estándar de 0.05 (5%).\n",
    "* Habiendo realizado 3 comparaciones para 4 acciones del embudo. En total he realizado 12 pruebas de hipótesis.\n",
    "* El nivel de significación de 5% es el adecuado. Ello significa que hay un 5% de probabilidad de cometer un error de Tipo I, es decir, rechazar la hipótesis nula cuando en realidad es verdadera."
   ]
  },
  {
   "cell_type": "markdown",
   "id": "8a09cd69-c2c9-4ca1-b6e1-a1653ed24821",
   "metadata": {},
   "source": [
    "## Conclusiones y recomendaciones"
   ]
  },
  {
   "cell_type": "markdown",
   "id": "5ebfcc25",
   "metadata": {},
   "source": [
    "### Conclusiones\n",
    "\n",
    "* El análisis del embudo de eventos mostró una disminución significativa en el número de usuarios en cada paso. La mayor pérdida de usuarios se produce entre la pantalla \"Principal\" y la de \"Ofertas\".\n",
    "\n",
    "* Un porcentaje relativamente pequeño de usuarios completó todo el proceso desde el primer evento hasta el pago, lo que indica posibles errores que deben ser abordados para mejorar la conversión.\n",
    "\n",
    "* Los resultados del t-test de Student indicaron que si hay diferencias estadísticamente significativas entre los grupos para la mayoría de las acciones, confirmando que los dos grupos de control no fueron creados correctamente y que cualquier diferencia en el grupo experimental (248) es más probable que no pueda ser validado.\n",
    "\n",
    "* El análisis A/A/B resultó inconcluso al ser los dos grupos de control significativamente diferentes.\n",
    "\n",
    "\n",
    "### Recomendaciones\n",
    "\n",
    "* Considerar la optimización de los pasos entre la pantalla \"Principal\" y la de \"Ofertas\" para reducir la pérdida de usuarios. Podrían realizarse mejoras en el diseño de la interfaz de usuario, simplificación de la navegación, o mejorar la oferta actual.\n",
    "\n",
    "* Implementar herramientas de monitoreo para identificar de manera proactiva bajos niveles de conversión en las diferentes etapas del embudo.\n",
    "\n",
    "* Considerar la incorporación de métricas cualitativas como encuestas de satisfacción del usuario para obtener una mejor comprensión de cómo los cambios en el diseño afectan la experiencia del usuario."
   ]
  }
 ],
 "metadata": {
  "ExecuteTimeLog": [
   {
    "duration": 2475,
    "start_time": "2024-08-29T00:33:03.388Z"
   },
   {
    "duration": 567,
    "start_time": "2024-08-29T00:33:05.865Z"
   },
   {
    "duration": 0,
    "start_time": "2024-08-29T00:33:06.435Z"
   },
   {
    "duration": 0,
    "start_time": "2024-08-29T00:33:06.436Z"
   },
   {
    "duration": 0,
    "start_time": "2024-08-29T00:33:06.438Z"
   },
   {
    "duration": 0,
    "start_time": "2024-08-29T00:33:06.439Z"
   },
   {
    "duration": 0,
    "start_time": "2024-08-29T00:33:06.440Z"
   },
   {
    "duration": 0,
    "start_time": "2024-08-29T00:33:06.441Z"
   },
   {
    "duration": 0,
    "start_time": "2024-08-29T00:33:06.442Z"
   },
   {
    "duration": 0,
    "start_time": "2024-08-29T00:33:06.443Z"
   },
   {
    "duration": 0,
    "start_time": "2024-08-29T00:33:06.444Z"
   },
   {
    "duration": 0,
    "start_time": "2024-08-29T00:33:06.444Z"
   },
   {
    "duration": 0,
    "start_time": "2024-08-29T00:33:06.445Z"
   },
   {
    "duration": 0,
    "start_time": "2024-08-29T00:33:06.446Z"
   },
   {
    "duration": 0,
    "start_time": "2024-08-29T00:33:06.447Z"
   },
   {
    "duration": 0,
    "start_time": "2024-08-29T00:33:06.449Z"
   },
   {
    "duration": 0,
    "start_time": "2024-08-29T00:33:06.450Z"
   },
   {
    "duration": 0,
    "start_time": "2024-08-29T00:33:06.451Z"
   },
   {
    "duration": 0,
    "start_time": "2024-08-29T00:33:06.452Z"
   },
   {
    "duration": 0,
    "start_time": "2024-08-29T00:33:06.452Z"
   },
   {
    "duration": 0,
    "start_time": "2024-08-29T00:33:06.454Z"
   },
   {
    "duration": 0,
    "start_time": "2024-08-29T00:33:06.455Z"
   },
   {
    "duration": 0,
    "start_time": "2024-08-29T00:33:06.487Z"
   },
   {
    "duration": 0,
    "start_time": "2024-08-29T00:33:06.488Z"
   },
   {
    "duration": 0,
    "start_time": "2024-08-29T00:33:06.489Z"
   },
   {
    "duration": 0,
    "start_time": "2024-08-29T00:33:06.490Z"
   },
   {
    "duration": 0,
    "start_time": "2024-08-29T00:33:06.491Z"
   },
   {
    "duration": 0,
    "start_time": "2024-08-29T00:33:06.493Z"
   },
   {
    "duration": 0,
    "start_time": "2024-08-29T00:33:06.494Z"
   },
   {
    "duration": 0,
    "start_time": "2024-08-29T00:33:06.495Z"
   },
   {
    "duration": 0,
    "start_time": "2024-08-29T00:33:06.496Z"
   },
   {
    "duration": 0,
    "start_time": "2024-08-29T00:33:06.497Z"
   },
   {
    "duration": 0,
    "start_time": "2024-08-29T00:33:06.498Z"
   },
   {
    "duration": 0,
    "start_time": "2024-08-29T00:33:06.499Z"
   },
   {
    "duration": 0,
    "start_time": "2024-08-29T00:33:06.500Z"
   },
   {
    "duration": 59,
    "start_time": "2024-08-29T00:34:35.891Z"
   },
   {
    "duration": 154,
    "start_time": "2024-08-29T00:34:40.704Z"
   },
   {
    "duration": 739,
    "start_time": "2024-08-29T00:35:18.536Z"
   },
   {
    "duration": 102,
    "start_time": "2024-08-29T00:35:19.277Z"
   },
   {
    "duration": 11,
    "start_time": "2024-08-29T00:35:19.381Z"
   },
   {
    "duration": 15,
    "start_time": "2024-08-29T00:35:19.394Z"
   },
   {
    "duration": 3,
    "start_time": "2024-08-29T00:35:19.410Z"
   },
   {
    "duration": 13,
    "start_time": "2024-08-29T00:35:19.414Z"
   },
   {
    "duration": 67,
    "start_time": "2024-08-29T00:35:19.428Z"
   },
   {
    "duration": 92,
    "start_time": "2024-08-29T00:35:19.497Z"
   },
   {
    "duration": 5,
    "start_time": "2024-08-29T00:35:19.591Z"
   },
   {
    "duration": 66,
    "start_time": "2024-08-29T00:35:19.600Z"
   },
   {
    "duration": 10,
    "start_time": "2024-08-29T00:35:19.687Z"
   },
   {
    "duration": 7,
    "start_time": "2024-08-29T00:35:19.698Z"
   },
   {
    "duration": 3,
    "start_time": "2024-08-29T00:35:19.706Z"
   },
   {
    "duration": 21,
    "start_time": "2024-08-29T00:35:19.711Z"
   },
   {
    "duration": 235,
    "start_time": "2024-08-29T00:35:19.734Z"
   },
   {
    "duration": 22,
    "start_time": "2024-08-29T00:35:19.971Z"
   },
   {
    "duration": 4,
    "start_time": "2024-08-29T00:35:19.994Z"
   },
   {
    "duration": 22,
    "start_time": "2024-08-29T00:35:20.000Z"
   },
   {
    "duration": 17,
    "start_time": "2024-08-29T00:35:20.024Z"
   },
   {
    "duration": 6,
    "start_time": "2024-08-29T00:35:20.042Z"
   },
   {
    "duration": 50,
    "start_time": "2024-08-29T00:35:20.050Z"
   },
   {
    "duration": 36,
    "start_time": "2024-08-29T00:35:20.102Z"
   },
   {
    "duration": 6,
    "start_time": "2024-08-29T00:35:20.140Z"
   },
   {
    "duration": 7,
    "start_time": "2024-08-29T00:35:20.149Z"
   },
   {
    "duration": 3998,
    "start_time": "2024-08-29T00:35:20.158Z"
   },
   {
    "duration": 8,
    "start_time": "2024-08-29T00:35:24.158Z"
   },
   {
    "duration": 61,
    "start_time": "2024-08-29T00:35:24.168Z"
   },
   {
    "duration": 13,
    "start_time": "2024-08-29T00:35:24.233Z"
   },
   {
    "duration": 8,
    "start_time": "2024-08-29T00:35:24.247Z"
   },
   {
    "duration": 4,
    "start_time": "2024-08-29T00:35:24.256Z"
   },
   {
    "duration": 26,
    "start_time": "2024-08-29T00:35:24.262Z"
   },
   {
    "duration": 21,
    "start_time": "2024-08-29T00:35:24.289Z"
   },
   {
    "duration": 10,
    "start_time": "2024-08-29T00:35:24.312Z"
   },
   {
    "duration": 10,
    "start_time": "2024-08-29T00:35:24.324Z"
   },
   {
    "duration": 4,
    "start_time": "2024-08-29T00:35:24.336Z"
   },
   {
    "duration": 2564,
    "start_time": "2024-08-29T19:47:47.256Z"
   },
   {
    "duration": 141,
    "start_time": "2024-08-29T19:47:49.822Z"
   },
   {
    "duration": 11,
    "start_time": "2024-08-29T19:47:49.965Z"
   },
   {
    "duration": 16,
    "start_time": "2024-08-29T19:47:49.979Z"
   },
   {
    "duration": 3,
    "start_time": "2024-08-29T19:47:49.997Z"
   },
   {
    "duration": 31,
    "start_time": "2024-08-29T19:47:50.001Z"
   },
   {
    "duration": 43,
    "start_time": "2024-08-29T19:47:50.033Z"
   },
   {
    "duration": 97,
    "start_time": "2024-08-29T19:47:50.078Z"
   },
   {
    "duration": 6,
    "start_time": "2024-08-29T19:47:50.177Z"
   },
   {
    "duration": 79,
    "start_time": "2024-08-29T19:47:50.186Z"
   },
   {
    "duration": 11,
    "start_time": "2024-08-29T19:47:50.266Z"
   },
   {
    "duration": 6,
    "start_time": "2024-08-29T19:47:50.279Z"
   },
   {
    "duration": 3,
    "start_time": "2024-08-29T19:47:50.287Z"
   },
   {
    "duration": 46,
    "start_time": "2024-08-29T19:47:50.291Z"
   },
   {
    "duration": 226,
    "start_time": "2024-08-29T19:47:50.339Z"
   },
   {
    "duration": 20,
    "start_time": "2024-08-29T19:47:50.568Z"
   },
   {
    "duration": 4,
    "start_time": "2024-08-29T19:47:50.589Z"
   },
   {
    "duration": 46,
    "start_time": "2024-08-29T19:47:50.595Z"
   },
   {
    "duration": 14,
    "start_time": "2024-08-29T19:47:50.643Z"
   },
   {
    "duration": 6,
    "start_time": "2024-08-29T19:47:50.659Z"
   },
   {
    "duration": 18,
    "start_time": "2024-08-29T19:47:50.666Z"
   },
   {
    "duration": 56,
    "start_time": "2024-08-29T19:47:50.686Z"
   },
   {
    "duration": 6,
    "start_time": "2024-08-29T19:47:50.744Z"
   },
   {
    "duration": 8,
    "start_time": "2024-08-29T19:47:50.751Z"
   },
   {
    "duration": 4111,
    "start_time": "2024-08-29T19:47:50.761Z"
   },
   {
    "duration": 8,
    "start_time": "2024-08-29T19:47:54.873Z"
   },
   {
    "duration": 64,
    "start_time": "2024-08-29T19:47:54.883Z"
   },
   {
    "duration": 13,
    "start_time": "2024-08-29T19:47:54.950Z"
   },
   {
    "duration": 7,
    "start_time": "2024-08-29T19:47:54.965Z"
   },
   {
    "duration": 5,
    "start_time": "2024-08-29T19:47:54.974Z"
   },
   {
    "duration": 3,
    "start_time": "2024-08-29T19:47:54.981Z"
   },
   {
    "duration": 51,
    "start_time": "2024-08-29T19:47:54.986Z"
   },
   {
    "duration": 11,
    "start_time": "2024-08-29T19:47:55.038Z"
   },
   {
    "duration": 11,
    "start_time": "2024-08-29T19:47:55.050Z"
   },
   {
    "duration": 4,
    "start_time": "2024-08-29T19:47:55.063Z"
   },
   {
    "duration": 193,
    "start_time": "2024-08-30T01:22:19.622Z"
   },
   {
    "duration": 2480,
    "start_time": "2024-08-30T01:22:30.390Z"
   },
   {
    "duration": 183,
    "start_time": "2024-08-30T01:22:32.873Z"
   },
   {
    "duration": 10,
    "start_time": "2024-08-30T01:22:33.058Z"
   },
   {
    "duration": 16,
    "start_time": "2024-08-30T01:22:33.070Z"
   },
   {
    "duration": 2,
    "start_time": "2024-08-30T01:22:33.088Z"
   },
   {
    "duration": 28,
    "start_time": "2024-08-30T01:22:33.092Z"
   },
   {
    "duration": 42,
    "start_time": "2024-08-30T01:22:33.121Z"
   },
   {
    "duration": 330,
    "start_time": "2024-08-30T01:22:33.165Z"
   },
   {
    "duration": 0,
    "start_time": "2024-08-30T01:22:33.498Z"
   },
   {
    "duration": 0,
    "start_time": "2024-08-30T01:22:33.508Z"
   },
   {
    "duration": 0,
    "start_time": "2024-08-30T01:22:33.510Z"
   },
   {
    "duration": 0,
    "start_time": "2024-08-30T01:22:33.512Z"
   },
   {
    "duration": 0,
    "start_time": "2024-08-30T01:22:33.513Z"
   },
   {
    "duration": 0,
    "start_time": "2024-08-30T01:22:33.514Z"
   },
   {
    "duration": 0,
    "start_time": "2024-08-30T01:22:33.516Z"
   },
   {
    "duration": 0,
    "start_time": "2024-08-30T01:22:33.517Z"
   },
   {
    "duration": 0,
    "start_time": "2024-08-30T01:22:33.518Z"
   },
   {
    "duration": 0,
    "start_time": "2024-08-30T01:22:33.520Z"
   },
   {
    "duration": 0,
    "start_time": "2024-08-30T01:22:33.521Z"
   },
   {
    "duration": 0,
    "start_time": "2024-08-30T01:22:33.522Z"
   },
   {
    "duration": 0,
    "start_time": "2024-08-30T01:22:33.524Z"
   },
   {
    "duration": 0,
    "start_time": "2024-08-30T01:22:33.525Z"
   },
   {
    "duration": 0,
    "start_time": "2024-08-30T01:22:33.526Z"
   },
   {
    "duration": 0,
    "start_time": "2024-08-30T01:22:33.528Z"
   },
   {
    "duration": 0,
    "start_time": "2024-08-30T01:22:33.529Z"
   },
   {
    "duration": 0,
    "start_time": "2024-08-30T01:22:33.530Z"
   },
   {
    "duration": 0,
    "start_time": "2024-08-30T01:22:33.532Z"
   },
   {
    "duration": 0,
    "start_time": "2024-08-30T01:22:33.533Z"
   },
   {
    "duration": 0,
    "start_time": "2024-08-30T01:22:33.534Z"
   },
   {
    "duration": 0,
    "start_time": "2024-08-30T01:22:33.536Z"
   },
   {
    "duration": 0,
    "start_time": "2024-08-30T01:22:33.537Z"
   },
   {
    "duration": 0,
    "start_time": "2024-08-30T01:22:33.538Z"
   },
   {
    "duration": 0,
    "start_time": "2024-08-30T01:22:33.540Z"
   },
   {
    "duration": 0,
    "start_time": "2024-08-30T01:22:33.541Z"
   },
   {
    "duration": 0,
    "start_time": "2024-08-30T01:22:33.542Z"
   },
   {
    "duration": 127,
    "start_time": "2024-08-30T01:23:40.727Z"
   },
   {
    "duration": 97,
    "start_time": "2024-08-30T01:23:55.743Z"
   },
   {
    "duration": 878,
    "start_time": "2024-08-30T01:24:25.426Z"
   },
   {
    "duration": 105,
    "start_time": "2024-08-30T01:24:26.310Z"
   },
   {
    "duration": 9,
    "start_time": "2024-08-30T01:24:26.419Z"
   },
   {
    "duration": 15,
    "start_time": "2024-08-30T01:24:26.430Z"
   },
   {
    "duration": 3,
    "start_time": "2024-08-30T01:24:26.448Z"
   },
   {
    "duration": 14,
    "start_time": "2024-08-30T01:24:26.453Z"
   },
   {
    "duration": 70,
    "start_time": "2024-08-30T01:24:26.469Z"
   },
   {
    "duration": 113,
    "start_time": "2024-08-30T01:24:26.541Z"
   },
   {
    "duration": 5,
    "start_time": "2024-08-30T01:24:26.656Z"
   },
   {
    "duration": 86,
    "start_time": "2024-08-30T01:24:26.663Z"
   },
   {
    "duration": 14,
    "start_time": "2024-08-30T01:24:26.751Z"
   },
   {
    "duration": 8,
    "start_time": "2024-08-30T01:24:26.767Z"
   },
   {
    "duration": 4,
    "start_time": "2024-08-30T01:24:26.776Z"
   },
   {
    "duration": 24,
    "start_time": "2024-08-30T01:24:26.811Z"
   },
   {
    "duration": 250,
    "start_time": "2024-08-30T01:24:26.836Z"
   },
   {
    "duration": 31,
    "start_time": "2024-08-30T01:24:27.088Z"
   },
   {
    "duration": 4,
    "start_time": "2024-08-30T01:24:27.123Z"
   },
   {
    "duration": 34,
    "start_time": "2024-08-30T01:24:27.129Z"
   },
   {
    "duration": 23,
    "start_time": "2024-08-30T01:24:27.165Z"
   },
   {
    "duration": 8,
    "start_time": "2024-08-30T01:24:27.209Z"
   },
   {
    "duration": 25,
    "start_time": "2024-08-30T01:24:27.219Z"
   },
   {
    "duration": 72,
    "start_time": "2024-08-30T01:24:27.245Z"
   },
   {
    "duration": 6,
    "start_time": "2024-08-30T01:24:27.320Z"
   },
   {
    "duration": 9,
    "start_time": "2024-08-30T01:24:27.328Z"
   },
   {
    "duration": 4191,
    "start_time": "2024-08-30T01:24:27.339Z"
   },
   {
    "duration": 11,
    "start_time": "2024-08-30T01:24:31.533Z"
   },
   {
    "duration": 62,
    "start_time": "2024-08-30T01:24:31.546Z"
   },
   {
    "duration": 15,
    "start_time": "2024-08-30T01:24:31.611Z"
   },
   {
    "duration": 8,
    "start_time": "2024-08-30T01:24:31.628Z"
   },
   {
    "duration": 4,
    "start_time": "2024-08-30T01:24:31.637Z"
   },
   {
    "duration": 4,
    "start_time": "2024-08-30T01:24:31.643Z"
   },
   {
    "duration": 23,
    "start_time": "2024-08-30T01:24:31.649Z"
   },
   {
    "duration": 12,
    "start_time": "2024-08-30T01:24:31.711Z"
   },
   {
    "duration": 11,
    "start_time": "2024-08-30T01:24:31.727Z"
   },
   {
    "duration": 5,
    "start_time": "2024-08-30T01:24:31.740Z"
   },
   {
    "duration": 18,
    "start_time": "2024-08-30T01:31:38.714Z"
   },
   {
    "duration": 16,
    "start_time": "2024-08-30T01:31:54.268Z"
   },
   {
    "duration": 235,
    "start_time": "2024-08-30T01:51:42.613Z"
   },
   {
    "duration": 21,
    "start_time": "2024-08-30T01:52:12.271Z"
   },
   {
    "duration": 164,
    "start_time": "2024-08-30T01:52:45.777Z"
   },
   {
    "duration": 50,
    "start_time": "2024-08-30T02:40:21.651Z"
   },
   {
    "duration": 14,
    "start_time": "2024-08-30T02:40:40.873Z"
   },
   {
    "duration": 5,
    "start_time": "2024-08-30T02:41:02.633Z"
   },
   {
    "duration": 215,
    "start_time": "2024-08-30T02:41:17.341Z"
   },
   {
    "duration": 4,
    "start_time": "2024-08-30T02:44:35.900Z"
   },
   {
    "duration": 5,
    "start_time": "2024-08-30T03:08:03.544Z"
   },
   {
    "duration": 3,
    "start_time": "2024-08-30T03:08:25.249Z"
   },
   {
    "duration": 4,
    "start_time": "2024-08-30T03:08:49.008Z"
   },
   {
    "duration": 307,
    "start_time": "2024-08-30T03:09:38.723Z"
   },
   {
    "duration": 45,
    "start_time": "2024-08-30T03:10:56.889Z"
   },
   {
    "duration": 46,
    "start_time": "2024-08-30T03:11:15.875Z"
   },
   {
    "duration": 15,
    "start_time": "2024-08-30T03:12:01.687Z"
   },
   {
    "duration": 3,
    "start_time": "2024-08-30T03:14:20.652Z"
   },
   {
    "duration": 39,
    "start_time": "2024-08-30T03:16:33.673Z"
   },
   {
    "duration": 38,
    "start_time": "2024-08-30T03:19:34.881Z"
   },
   {
    "duration": 5,
    "start_time": "2024-08-30T03:20:48.700Z"
   },
   {
    "duration": 4,
    "start_time": "2024-08-30T03:20:55.747Z"
   },
   {
    "duration": 47,
    "start_time": "2024-08-30T03:22:35.322Z"
   },
   {
    "duration": 54,
    "start_time": "2024-08-30T03:22:57.737Z"
   },
   {
    "duration": 38,
    "start_time": "2024-08-30T03:23:10.212Z"
   },
   {
    "duration": 218,
    "start_time": "2024-08-30T03:33:52.110Z"
   },
   {
    "duration": 262,
    "start_time": "2024-08-30T03:41:51.816Z"
   },
   {
    "duration": 244,
    "start_time": "2024-08-30T03:42:24.727Z"
   },
   {
    "duration": 270,
    "start_time": "2024-08-30T03:42:57.130Z"
   },
   {
    "duration": 3,
    "start_time": "2024-08-30T03:45:12.619Z"
   },
   {
    "duration": 258,
    "start_time": "2024-08-30T03:51:14.742Z"
   },
   {
    "duration": 262,
    "start_time": "2024-08-30T03:51:31.078Z"
   },
   {
    "duration": 242,
    "start_time": "2024-08-30T03:51:36.158Z"
   },
   {
    "duration": 245,
    "start_time": "2024-08-30T03:51:43.278Z"
   },
   {
    "duration": 6,
    "start_time": "2024-08-30T03:59:02.703Z"
   },
   {
    "duration": 7,
    "start_time": "2024-08-30T03:59:21.355Z"
   },
   {
    "duration": 8,
    "start_time": "2024-08-30T04:00:30.138Z"
   },
   {
    "duration": 6,
    "start_time": "2024-08-30T04:01:22.407Z"
   },
   {
    "duration": 7,
    "start_time": "2024-08-30T04:01:26.769Z"
   },
   {
    "duration": 6,
    "start_time": "2024-08-30T04:01:51.282Z"
   },
   {
    "duration": 6,
    "start_time": "2024-08-30T04:02:05.912Z"
   },
   {
    "duration": 263,
    "start_time": "2024-08-30T04:02:14.552Z"
   },
   {
    "duration": 287,
    "start_time": "2024-08-30T04:03:49.450Z"
   },
   {
    "duration": 319,
    "start_time": "2024-08-30T04:04:28.694Z"
   },
   {
    "duration": 260,
    "start_time": "2024-08-30T04:20:34.903Z"
   },
   {
    "duration": 279,
    "start_time": "2024-08-30T04:21:15.313Z"
   },
   {
    "duration": 4,
    "start_time": "2024-08-30T04:23:33.667Z"
   },
   {
    "duration": 66,
    "start_time": "2024-08-30T04:23:42.892Z"
   },
   {
    "duration": 4,
    "start_time": "2024-08-30T04:29:04.924Z"
   },
   {
    "duration": 5,
    "start_time": "2024-08-30T04:29:45.189Z"
   },
   {
    "duration": 243,
    "start_time": "2024-08-30T04:29:54.898Z"
   },
   {
    "duration": 5,
    "start_time": "2024-08-30T04:30:20.564Z"
   },
   {
    "duration": 243,
    "start_time": "2024-08-30T04:30:23.403Z"
   },
   {
    "duration": 239,
    "start_time": "2024-08-30T04:32:20.368Z"
   },
   {
    "duration": 248,
    "start_time": "2024-08-30T04:32:35.154Z"
   },
   {
    "duration": 251,
    "start_time": "2024-08-30T04:36:21.007Z"
   },
   {
    "duration": 305,
    "start_time": "2024-08-30T04:37:57.906Z"
   },
   {
    "duration": 252,
    "start_time": "2024-08-30T04:38:50.159Z"
   },
   {
    "duration": 253,
    "start_time": "2024-08-30T04:39:13.470Z"
   },
   {
    "duration": 255,
    "start_time": "2024-08-30T04:39:32.951Z"
   },
   {
    "duration": 772,
    "start_time": "2024-08-30T06:30:14.773Z"
   },
   {
    "duration": 103,
    "start_time": "2024-08-30T06:30:15.548Z"
   },
   {
    "duration": 8,
    "start_time": "2024-08-30T06:30:15.653Z"
   },
   {
    "duration": 15,
    "start_time": "2024-08-30T06:30:15.663Z"
   },
   {
    "duration": 3,
    "start_time": "2024-08-30T06:30:15.679Z"
   },
   {
    "duration": 37,
    "start_time": "2024-08-30T06:30:15.683Z"
   },
   {
    "duration": 45,
    "start_time": "2024-08-30T06:30:15.721Z"
   },
   {
    "duration": 115,
    "start_time": "2024-08-30T06:30:15.769Z"
   },
   {
    "duration": 5,
    "start_time": "2024-08-30T06:30:15.887Z"
   },
   {
    "duration": 75,
    "start_time": "2024-08-30T06:30:15.895Z"
   },
   {
    "duration": 10,
    "start_time": "2024-08-30T06:30:15.972Z"
   },
   {
    "duration": 27,
    "start_time": "2024-08-30T06:30:15.983Z"
   },
   {
    "duration": 4,
    "start_time": "2024-08-30T06:30:16.012Z"
   },
   {
    "duration": 22,
    "start_time": "2024-08-30T06:30:16.018Z"
   },
   {
    "duration": 239,
    "start_time": "2024-08-30T06:30:16.042Z"
   },
   {
    "duration": 27,
    "start_time": "2024-08-30T06:30:16.283Z"
   },
   {
    "duration": 4,
    "start_time": "2024-08-30T06:30:16.311Z"
   },
   {
    "duration": 26,
    "start_time": "2024-08-30T06:30:16.317Z"
   },
   {
    "duration": 16,
    "start_time": "2024-08-30T06:30:16.345Z"
   },
   {
    "duration": 6,
    "start_time": "2024-08-30T06:30:16.362Z"
   },
   {
    "duration": 52,
    "start_time": "2024-08-30T06:30:16.369Z"
   },
   {
    "duration": 39,
    "start_time": "2024-08-30T06:30:16.423Z"
   },
   {
    "duration": 5,
    "start_time": "2024-08-30T06:30:16.464Z"
   },
   {
    "duration": 8,
    "start_time": "2024-08-30T06:30:16.470Z"
   },
   {
    "duration": 4015,
    "start_time": "2024-08-30T06:30:16.479Z"
   },
   {
    "duration": 14,
    "start_time": "2024-08-30T06:30:20.496Z"
   },
   {
    "duration": 49,
    "start_time": "2024-08-30T06:30:20.511Z"
   },
   {
    "duration": 13,
    "start_time": "2024-08-30T06:30:20.565Z"
   },
   {
    "duration": 8,
    "start_time": "2024-08-30T06:30:20.580Z"
   },
   {
    "duration": 49,
    "start_time": "2024-08-30T06:30:20.609Z"
   },
   {
    "duration": 156,
    "start_time": "2024-08-30T06:30:20.660Z"
   },
   {
    "duration": 5,
    "start_time": "2024-08-30T06:30:20.817Z"
   },
   {
    "duration": 39,
    "start_time": "2024-08-30T06:30:20.823Z"
   },
   {
    "duration": 4,
    "start_time": "2024-08-30T06:30:20.863Z"
   },
   {
    "duration": 22,
    "start_time": "2024-08-30T06:30:20.909Z"
   },
   {
    "duration": 10,
    "start_time": "2024-08-30T06:30:20.933Z"
   },
   {
    "duration": 10,
    "start_time": "2024-08-30T06:30:20.945Z"
   },
   {
    "duration": 5,
    "start_time": "2024-08-30T06:30:20.956Z"
   },
   {
    "duration": 7,
    "start_time": "2024-08-30T06:30:20.963Z"
   },
   {
    "duration": 281,
    "start_time": "2024-08-30T06:30:20.971Z"
   },
   {
    "duration": 263,
    "start_time": "2024-08-30T06:30:21.253Z"
   },
   {
    "duration": 269,
    "start_time": "2024-08-30T06:30:21.518Z"
   },
   {
    "duration": 98,
    "start_time": "2024-08-30T06:30:50.673Z"
   },
   {
    "duration": 49,
    "start_time": "2024-08-30T06:33:24.765Z"
   },
   {
    "duration": 13,
    "start_time": "2024-08-30T06:33:30.853Z"
   },
   {
    "duration": 7,
    "start_time": "2024-08-30T06:33:33.039Z"
   },
   {
    "duration": 48,
    "start_time": "2024-08-30T06:33:45.309Z"
   },
   {
    "duration": 8,
    "start_time": "2024-08-30T06:33:48.294Z"
   },
   {
    "duration": 5,
    "start_time": "2024-08-30T06:35:11.051Z"
   }
  ],
  "kernelspec": {
   "display_name": "Python 3 (ipykernel)",
   "language": "python",
   "name": "python3"
  },
  "language_info": {
   "codemirror_mode": {
    "name": "ipython",
    "version": 3
   },
   "file_extension": ".py",
   "mimetype": "text/x-python",
   "name": "python",
   "nbconvert_exporter": "python",
   "pygments_lexer": "ipython3",
   "version": "3.9.19"
  },
  "toc": {
   "base_numbering": 1,
   "nav_menu": {},
   "number_sections": true,
   "sideBar": true,
   "skip_h1_title": true,
   "title_cell": "Table of Contents",
   "title_sidebar": "Contents",
   "toc_cell": false,
   "toc_position": {
    "height": "calc(100% - 180px)",
    "left": "10px",
    "top": "150px",
    "width": "208.188px"
   },
   "toc_section_display": true,
   "toc_window_display": true
  }
 },
 "nbformat": 4,
 "nbformat_minor": 5
}
